{
 "cells": [
  {
   "cell_type": "markdown",
   "id": "5a03e86c-fd54-4357-9bc8-73e99c251a98",
   "metadata": {},
   "source": [
    "# Numpy"
   ]
  },
  {
   "cell_type": "markdown",
   "id": "0712732c-03bc-468f-a9b2-7178319499f3",
   "metadata": {},
   "source": [
    "Numpy is a library which provides support for large, homogeneous, multi-dimensional arrays and matrices"
   ]
  },
  {
   "cell_type": "code",
   "execution_count": 6,
   "id": "87b52cec-4371-432b-bb3f-3ee595023233",
   "metadata": {},
   "outputs": [],
   "source": [
    "# import numpy\n",
    "\n",
    "import numpy as np"
   ]
  },
  {
   "cell_type": "markdown",
   "id": "80c34bb3-f768-45b0-bfb7-05497350588b",
   "metadata": {},
   "source": [
    "## Creating Arrays in Numpy\n",
    "### Creating an array from a list"
   ]
  },
  {
   "cell_type": "code",
   "execution_count": 5,
   "id": "f3553015-09ac-49b8-9dc0-145d39fba7d7",
   "metadata": {},
   "outputs": [
    {
     "data": {
      "text/plain": [
       "[10, 20, 30]"
      ]
     },
     "execution_count": 5,
     "metadata": {},
     "output_type": "execute_result"
    }
   ],
   "source": [
    "list1 = [10, 20, 30]\n",
    "\n",
    "list1"
   ]
  },
  {
   "cell_type": "code",
   "execution_count": 9,
   "id": "5abf5fd6-c99e-40eb-9672-07b82f4768f5",
   "metadata": {},
   "outputs": [
    {
     "data": {
      "text/plain": [
       "array([10, 20, 30])"
      ]
     },
     "execution_count": 9,
     "metadata": {},
     "output_type": "execute_result"
    }
   ],
   "source": [
    "arr1 = np.array(list1)\n",
    "arr1"
   ]
  },
  {
   "cell_type": "code",
   "execution_count": 11,
   "id": "7cdba252-087a-454b-bd2c-b3414d35d16f",
   "metadata": {},
   "outputs": [
    {
     "data": {
      "text/plain": [
       "numpy.ndarray"
      ]
     },
     "execution_count": 11,
     "metadata": {},
     "output_type": "execute_result"
    }
   ],
   "source": [
    "type(arr1)"
   ]
  },
  {
   "cell_type": "markdown",
   "id": "c21a5d50-ad83-45ea-827d-2328d0082879",
   "metadata": {},
   "source": [
    "### Using arange to create an array\n",
    "\n",
    "The difference between array and arange is that array takes in a list and turns it into an array, whereas arrange creates an array from a range of numbers."
   ]
  },
  {
   "cell_type": "code",
   "execution_count": 12,
   "id": "0bf1d348-a66b-4d9a-a429-d83004104ae9",
   "metadata": {},
   "outputs": [],
   "source": [
    "arr2 = np.arange(10, 20, 1) # (Start, Stop, Step-Size)"
   ]
  },
  {
   "cell_type": "code",
   "execution_count": 13,
   "id": "8c48e6db-5894-476b-92f9-b20a5a3dc40b",
   "metadata": {},
   "outputs": [
    {
     "data": {
      "text/plain": [
       "array([10, 11, 12, 13, 14, 15, 16, 17, 18, 19])"
      ]
     },
     "execution_count": 13,
     "metadata": {},
     "output_type": "execute_result"
    }
   ],
   "source": [
    "arr2"
   ]
  },
  {
   "cell_type": "markdown",
   "id": "f81522f6-40b4-4b89-9aff-a79c4c0053c8",
   "metadata": {},
   "source": [
    "## Multidimensional arrays\n",
    "\n",
    "### Two-dimensional arrays\n",
    "\n",
    "When we combine arrays, together we can add dimensions. Combining two arrays gives us a 2D array!\n",
    "\n",
    "This creates a matrix for us on which we can perform matrix operations."
   ]
  },
  {
   "cell_type": "code",
   "execution_count": 14,
   "id": "802c30ab-f8f7-425a-bad0-9e4b06bbdf96",
   "metadata": {},
   "outputs": [
    {
     "data": {
      "text/plain": [
       "array([[10, 20, 30],\n",
       "       [40, 50, 60]])"
      ]
     },
     "execution_count": 14,
     "metadata": {},
     "output_type": "execute_result"
    }
   ],
   "source": [
    "# Let's create a new list to join onto the first list\n",
    "list2 = [40,50,60]\n",
    "\n",
    "# Join the lists\n",
    "list3 = [list1, list2]\n",
    "\n",
    "# Create an array out of the joined lists\n",
    "arr3 = np.array(list3)\n",
    "arr3"
   ]
  },
  {
   "cell_type": "code",
   "execution_count": 16,
   "id": "f8b9736f-0a66-4e04-97ff-d0fc7a8d20b6",
   "metadata": {},
   "outputs": [
    {
     "data": {
      "text/plain": [
       "(2, 3)"
      ]
     },
     "execution_count": 16,
     "metadata": {},
     "output_type": "execute_result"
    }
   ],
   "source": [
    "# Let's find the shape of that array\n",
    "# We have a 2D array with 2 elements in the first instance and 3 in the second\n",
    "\n",
    "arr3.shape"
   ]
  },
  {
   "cell_type": "markdown",
   "id": "45c792ce-681b-4083-9c4a-b02da1e97af4",
   "metadata": {},
   "source": [
    "## Three-Dimensional arrays"
   ]
  },
  {
   "cell_type": "code",
   "execution_count": 17,
   "id": "5b0da9d5-9cae-4567-8717-4aa72e09d8c9",
   "metadata": {},
   "outputs": [],
   "source": [
    "arr3dim= np.array([[[1,2,3],[3,4,5]],[[5,6,7],[7,8,9]]])"
   ]
  },
  {
   "cell_type": "code",
   "execution_count": 19,
   "id": "295d0958-7aea-48a1-b2ac-43364d63ba34",
   "metadata": {},
   "outputs": [
    {
     "data": {
      "text/plain": [
       "(2, 2, 3)"
      ]
     },
     "execution_count": 19,
     "metadata": {},
     "output_type": "execute_result"
    }
   ],
   "source": [
    "arr3dim.shape"
   ]
  },
  {
   "cell_type": "code",
   "execution_count": 20,
   "id": "f716368f-7c99-448e-8948-569d5ad5beb7",
   "metadata": {},
   "outputs": [
    {
     "data": {
      "text/plain": [
       "array([[[1, 2, 3],\n",
       "        [3, 4, 5]],\n",
       "\n",
       "       [[5, 6, 7],\n",
       "        [7, 8, 9]]])"
      ]
     },
     "execution_count": 20,
     "metadata": {},
     "output_type": "execute_result"
    }
   ],
   "source": [
    "arr3dim"
   ]
  },
  {
   "cell_type": "markdown",
   "id": "8ae89f6d-718f-4d11-90cf-cf1833b02e72",
   "metadata": {},
   "source": [
    "## Using Arrays and Scalars\n",
    "\n",
    "Numpy arrays (or ndarray) allow us to perform matrix operations."
   ]
  },
  {
   "cell_type": "code",
   "execution_count": 21,
   "id": "c2518931-1990-4310-95ce-27136e10a1d2",
   "metadata": {},
   "outputs": [
    {
     "data": {
      "text/plain": [
       "array([[[ 3,  6,  9],\n",
       "        [ 9, 12, 15]],\n",
       "\n",
       "       [[15, 18, 21],\n",
       "        [21, 24, 27]]])"
      ]
     },
     "execution_count": 21,
     "metadata": {},
     "output_type": "execute_result"
    }
   ],
   "source": [
    "# For example, we can use simple multiplication\n",
    "\n",
    "arr3dim * 3"
   ]
  },
  {
   "cell_type": "code",
   "execution_count": 25,
   "id": "569fa61a-6e06-4940-a601-f1ddf2b1efc0",
   "metadata": {},
   "outputs": [
    {
     "data": {
      "text/plain": [
       "[10, 20, 30, 10, 20, 30, 10, 20, 30]"
      ]
     },
     "execution_count": 25,
     "metadata": {},
     "output_type": "execute_result"
    }
   ],
   "source": [
    "# How is this different from multiplying a list?\n",
    "list1 * 3\n",
    "\n",
    "# When multiplying a standard Python list by an integer, it repeats the contents of the list"
   ]
  },
  {
   "cell_type": "code",
   "execution_count": 26,
   "id": "320b1e70-69c0-48ee-8c56-1040d50de977",
   "metadata": {},
   "outputs": [
    {
     "data": {
      "text/plain": [
       "array([ 400, 1000, 1800])"
      ]
     },
     "execution_count": 26,
     "metadata": {},
     "output_type": "execute_result"
    }
   ],
   "source": [
    "# We can multiply an array with another array\n",
    "\n",
    "# Create a new array with the same size as arr1\n",
    "arr11 = np.array(list2)\n",
    "\n",
    "# Multiply the arrays\n",
    "arr1 * arr11"
   ]
  },
  {
   "cell_type": "markdown",
   "id": "9cf14dec-4ad2-4947-9cc4-e4e61df2b045",
   "metadata": {},
   "source": [
    "### Can we multiply arrays of different shapes?"
   ]
  },
  {
   "cell_type": "code",
   "execution_count": 29,
   "id": "7b673461-297a-4b14-9375-3477b463f9e1",
   "metadata": {},
   "outputs": [
    {
     "ename": "ValueError",
     "evalue": "operands could not be broadcast together with shapes (3,) (10,) ",
     "output_type": "error",
     "traceback": [
      "\u001b[1;31m---------------------------------------------------------------------------\u001b[0m",
      "\u001b[1;31mValueError\u001b[0m                                Traceback (most recent call last)",
      "Cell \u001b[1;32mIn[29], line 1\u001b[0m\n\u001b[1;32m----> 1\u001b[0m \u001b[43marr1\u001b[49m\u001b[43m \u001b[49m\u001b[38;5;241;43m*\u001b[39;49m\u001b[43m \u001b[49m\u001b[43marr2\u001b[49m\n",
      "\u001b[1;31mValueError\u001b[0m: operands could not be broadcast together with shapes (3,) (10,) "
     ]
    }
   ],
   "source": [
    "arr1 * arr2"
   ]
  },
  {
   "cell_type": "markdown",
   "id": "43d73895-e712-4797-96fd-f934f5255c81",
   "metadata": {},
   "source": [
    "The answer is NO"
   ]
  },
  {
   "cell_type": "markdown",
   "id": "7ae7b3e8-f294-4151-a93b-897081e48cea",
   "metadata": {},
   "source": [
    "### It is possible to multiply arrays of different dimensions, but the need the same element size!"
   ]
  },
  {
   "cell_type": "code",
   "execution_count": 30,
   "id": "bfe68f46-6a89-48f2-8b9b-e539bab55b07",
   "metadata": {},
   "outputs": [
    {
     "data": {
      "text/plain": [
       "array([[[ 10,  40,  90],\n",
       "        [ 30,  80, 150]],\n",
       "\n",
       "       [[ 50, 120, 210],\n",
       "        [ 70, 160, 270]]])"
      ]
     },
     "execution_count": 30,
     "metadata": {},
     "output_type": "execute_result"
    }
   ],
   "source": [
    "arr1 * arr3dim"
   ]
  },
  {
   "cell_type": "markdown",
   "id": "63a47f7e-109a-4bc9-a3e5-fe99205f092d",
   "metadata": {},
   "source": [
    "## Create ndarrays of the following sizes:\n",
    "One dimensional array with 12 elements (12,)\n",
    "Two dimensional array size (3, 4)\n",
    "Three dimensional array size (2, 5, 4)\n",
    "Check the size of your ndarray to ensure it is correct"
   ]
  },
  {
   "cell_type": "code",
   "execution_count": 55,
   "id": "cafcbf7f-baeb-4b64-9c93-cdd31b8bc1c3",
   "metadata": {},
   "outputs": [
    {
     "data": {
      "text/plain": [
       "(2, 5, 4)"
      ]
     },
     "execution_count": 55,
     "metadata": {},
     "output_type": "execute_result"
    }
   ],
   "source": [
    "arr12 = np.linspace(0, 10, 12) # 1D 12 elements\n",
    "\n",
    "arr34 = np.array([[1, 2, 3, 4], [5, 6, 7, 8], [9, 10, 11, 12]])\n",
    "arr34.shape\n",
    "\n",
    "\n",
    "arr254 = np.arange(40).reshape(2, 5, 4)\n",
    "arr254.shape"
   ]
  },
  {
   "cell_type": "markdown",
   "id": "1197a5ec-312b-45f7-acdc-b4fdfdbe3213",
   "metadata": {},
   "source": [
    "### Accessing the values inside ndarrays\n",
    "\n",
    "Let's take arr3 as our example, this was a 2D array"
   ]
  },
  {
   "cell_type": "code",
   "execution_count": 65,
   "id": "e3f26211-2d77-47dd-8093-89101e57236e",
   "metadata": {},
   "outputs": [
    {
     "name": "stdout",
     "output_type": "stream",
     "text": [
      "[[10 20 30]\n",
      " [40 50 60]]\n",
      "60\n",
      "60\n"
     ]
    }
   ],
   "source": [
    "# How can we access the 60?\n",
    "print(arr3)\n",
    "\n",
    "# We can use indexing\n",
    "print(arr3[1][2])\n",
    "\n",
    "# We ccan also just use a comma\n",
    "print(arr3[1,2])"
   ]
  },
  {
   "cell_type": "code",
   "execution_count": 66,
   "id": "da190eb3-dd84-4a5e-92bc-392ec2b50ad2",
   "metadata": {},
   "outputs": [
    {
     "data": {
      "text/plain": [
       "array([40, 50, 60])"
      ]
     },
     "execution_count": 66,
     "metadata": {},
     "output_type": "execute_result"
    }
   ],
   "source": [
    "# How can you get the bottom \"row\" of this ndarray\n",
    "arr3[1]"
   ]
  },
  {
   "cell_type": "code",
   "execution_count": 67,
   "id": "d4720b05-3ff3-4569-a67f-b5407015f6c1",
   "metadata": {},
   "outputs": [
    {
     "data": {
      "text/plain": [
       "array([30, 60])"
      ]
     },
     "execution_count": 67,
     "metadata": {},
     "output_type": "execute_result"
    }
   ],
   "source": [
    "# How about if we just want the last column\n",
    "arr3[:,2]"
   ]
  },
  {
   "cell_type": "markdown",
   "id": "80f64783-fe10-443d-a09d-4f1b5c3e81b8",
   "metadata": {},
   "source": [
    "## Statistical functions and arrays\n",
    "\n",
    "There are a number of built-in statistical functions we can use in numpy\n"
   ]
  },
  {
   "cell_type": "code",
   "execution_count": 68,
   "id": "bf978c93-04e1-494f-8749-ba90f71370ee",
   "metadata": {},
   "outputs": [
    {
     "data": {
      "text/plain": [
       "np.int64(210)"
      ]
     },
     "execution_count": 68,
     "metadata": {},
     "output_type": "execute_result"
    }
   ],
   "source": [
    "# Finding the sum of all values\n",
    "arr3.sum()"
   ]
  },
  {
   "cell_type": "code",
   "execution_count": 69,
   "id": "e3e06072-6f40-49c0-859f-e191aeb39b81",
   "metadata": {},
   "outputs": [
    {
     "data": {
      "text/plain": [
       "array([50, 70, 90])"
      ]
     },
     "execution_count": 69,
     "metadata": {},
     "output_type": "execute_result"
    }
   ],
   "source": [
    "# Finding the sum of all columns\n",
    "arr3.sum(0)"
   ]
  },
  {
   "cell_type": "code",
   "execution_count": 72,
   "id": "06c14403-52c8-4c8c-aba6-49eb273bb8f5",
   "metadata": {},
   "outputs": [
    {
     "data": {
      "text/plain": [
       "array([ 60, 150])"
      ]
     },
     "execution_count": 72,
     "metadata": {},
     "output_type": "execute_result"
    }
   ],
   "source": [
    "# Finding the sum of all rows\n",
    "arr3.sum(1)"
   ]
  },
  {
   "cell_type": "code",
   "execution_count": 73,
   "id": "467c838d-1796-4023-b766-0396168fe151",
   "metadata": {},
   "outputs": [
    {
     "data": {
      "text/plain": [
       "np.float64(35.0)"
      ]
     },
     "execution_count": 73,
     "metadata": {},
     "output_type": "execute_result"
    }
   ],
   "source": [
    "# Finding the mean\n",
    "arr3.mean()"
   ]
  },
  {
   "cell_type": "code",
   "execution_count": 74,
   "id": "afd44232-4245-41c6-8d9c-dcbf2848c5bc",
   "metadata": {},
   "outputs": [
    {
     "data": {
      "text/plain": [
       "np.float64(17.07825127659933)"
      ]
     },
     "execution_count": 74,
     "metadata": {},
     "output_type": "execute_result"
    }
   ],
   "source": [
    "# Finding the standard deviation\n",
    "arr3.std()"
   ]
  },
  {
   "cell_type": "code",
   "execution_count": 75,
   "id": "f2e65434-9be8-422e-8f32-ec8266d4025e",
   "metadata": {},
   "outputs": [
    {
     "data": {
      "text/plain": [
       "np.float64(291.6666666666667)"
      ]
     },
     "execution_count": 75,
     "metadata": {},
     "output_type": "execute_result"
    }
   ],
   "source": [
    "# Finding the variance\n",
    "arr3.var()"
   ]
  },
  {
   "cell_type": "code",
   "execution_count": 76,
   "id": "5c93c20a-753a-4d34-8c2f-8fd5a849d373",
   "metadata": {},
   "outputs": [
    {
     "data": {
      "text/plain": [
       "np.int64(10)"
      ]
     },
     "execution_count": 76,
     "metadata": {},
     "output_type": "execute_result"
    }
   ],
   "source": [
    "# Finding the min value\n",
    "arr3.min()"
   ]
  },
  {
   "cell_type": "code",
   "execution_count": 77,
   "id": "fc025c10-d6ab-44ba-9207-336eaed2be44",
   "metadata": {},
   "outputs": [
    {
     "data": {
      "text/plain": [
       "np.int64(60)"
      ]
     },
     "execution_count": 77,
     "metadata": {},
     "output_type": "execute_result"
    }
   ],
   "source": [
    "# Finding the max value\n",
    "arr3.max()"
   ]
  },
  {
   "cell_type": "markdown",
   "id": "1bbdfc07-382b-41ce-b564-f0b8c8052599",
   "metadata": {},
   "source": [
    "## Iterating through arrays"
   ]
  },
  {
   "cell_type": "code",
   "execution_count": 78,
   "id": "5960ec5e-a3ec-4133-8bf5-c1af564ad6f7",
   "metadata": {},
   "outputs": [
    {
     "name": "stdout",
     "output_type": "stream",
     "text": [
      "10\n",
      "20\n",
      "30\n"
     ]
    }
   ],
   "source": [
    "# For 1D array\n",
    "for x in arr1:\n",
    "    print(x)"
   ]
  },
  {
   "cell_type": "code",
   "execution_count": 80,
   "id": "37ccfcfa-c70e-41ff-bc5f-c7bbbc63c3ed",
   "metadata": {},
   "outputs": [
    {
     "name": "stdout",
     "output_type": "stream",
     "text": [
      "10\n",
      "20\n",
      "30\n",
      "40\n",
      "50\n",
      "60\n"
     ]
    }
   ],
   "source": [
    "# How about an n-dimensional array? Use nested loops\n",
    "for dim in arr3:\n",
    "    for num in dim:\n",
    "        print(num)\n",
    "\n",
    "# This case is for a 2D array - ie. 2 loops needed"
   ]
  },
  {
   "cell_type": "code",
   "execution_count": 84,
   "id": "a9461cdc-b8c8-41ad-b0eb-20be481b187a",
   "metadata": {},
   "outputs": [
    {
     "name": "stdout",
     "output_type": "stream",
     "text": [
      "10\n",
      "20\n",
      "30\n",
      "40\n",
      "50\n",
      "60\n"
     ]
    }
   ],
   "source": [
    "# You ccan use nditer to do this instead! (nd-iterate)\n",
    "# This can be used in simple scenarios, and very complex ones\n",
    "# It tends to be much cleaner than nested loops\n",
    "\n",
    "for x in np.nditer(arr3):\n",
    "    print(x)"
   ]
  },
  {
   "cell_type": "markdown",
   "id": "ef25e44e-9a65-4e0c-a3d4-203aed7c463a",
   "metadata": {},
   "source": [
    "## Saving and loading in numpy\n"
   ]
  },
  {
   "cell_type": "code",
   "execution_count": 85,
   "id": "8e30f82b-e01f-4704-a45e-1da08d0203d7",
   "metadata": {},
   "outputs": [],
   "source": [
    "# To save an array as a file\n",
    "np.save(\"new\", arr3)"
   ]
  },
  {
   "cell_type": "code",
   "execution_count": 86,
   "id": "fcb2dff8-8e26-4f8f-abbd-516f69038b5d",
   "metadata": {},
   "outputs": [
    {
     "data": {
      "text/plain": [
       "array([[10, 20, 30],\n",
       "       [40, 50, 60]])"
      ]
     },
     "execution_count": 86,
     "metadata": {},
     "output_type": "execute_result"
    }
   ],
   "source": [
    "# To load an array as a file\n",
    "np.load(\"new.npy\")"
   ]
  },
  {
   "cell_type": "code",
   "execution_count": 87,
   "id": "b6e013bc-fcbd-47a4-845d-9828752d34ac",
   "metadata": {},
   "outputs": [],
   "source": [
    "# Saving it as a .txt\n",
    "np.savetxt(\"new.txt\", arr3, delimiter=\",\")"
   ]
  },
  {
   "cell_type": "code",
   "execution_count": 88,
   "id": "ff678193-1409-401f-a455-42792c45ed6f",
   "metadata": {},
   "outputs": [
    {
     "data": {
      "text/plain": [
       "array([[10., 20., 30.],\n",
       "       [40., 50., 60.]])"
      ]
     },
     "execution_count": 88,
     "metadata": {},
     "output_type": "execute_result"
    }
   ],
   "source": [
    "# Loading a txt\n",
    "np.loadtxt(\"new.txt\", delimiter=\",\")"
   ]
  },
  {
   "cell_type": "code",
   "execution_count": null,
   "id": "d432a6b8-2d64-44ff-b63f-34d565875bb8",
   "metadata": {},
   "outputs": [],
   "source": []
  }
 ],
 "metadata": {
  "kernelspec": {
   "display_name": "Python 3 (ipykernel)",
   "language": "python",
   "name": "python3"
  },
  "language_info": {
   "codemirror_mode": {
    "name": "ipython",
    "version": 3
   },
   "file_extension": ".py",
   "mimetype": "text/x-python",
   "name": "python",
   "nbconvert_exporter": "python",
   "pygments_lexer": "ipython3",
   "version": "3.12.6"
  }
 },
 "nbformat": 4,
 "nbformat_minor": 5
}
