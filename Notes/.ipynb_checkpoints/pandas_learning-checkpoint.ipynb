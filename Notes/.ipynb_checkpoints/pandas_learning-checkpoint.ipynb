{
 "cells": [
  {
   "cell_type": "markdown",
   "id": "02bd56db-b63b-4982-8ffc-826426abf0b0",
   "metadata": {},
   "source": [
    "# Introduction to Pandas\n",
    "\n",
    "Pandas is a high-level data manipulation package which was built on top of Numpy. The key structures within pandas include Series and Dataframes"
   ]
  },
  {
   "cell_type": "markdown",
   "id": "de57f167-c276-43f1-8c55-0e10647fe08a",
   "metadata": {},
   "source": [
    "## Series\n",
    "\n",
    "A Series is a one-dimensional array with axis labels (an index)"
   ]
  },
  {
   "cell_type": "code",
   "execution_count": 2,
   "id": "92fe1df5-0d24-4fd2-8d10-f481fc48f119",
   "metadata": {},
   "outputs": [],
   "source": [
    "# Importing libraries and packages\n",
    "import numpy as np\n",
    "import pandas as pd\n",
    "from pandas import Series, DataFrame"
   ]
  },
  {
   "cell_type": "code",
   "execution_count": 3,
   "id": "37dc9317-46d2-4e19-a756-63d2e0eda2eb",
   "metadata": {},
   "outputs": [
    {
     "data": {
      "text/plain": [
       "0    10\n",
       "1    20\n",
       "2    30\n",
       "3    40\n",
       "4    50\n",
       "dtype: int64"
      ]
     },
     "execution_count": 3,
     "metadata": {},
     "output_type": "execute_result"
    }
   ],
   "source": [
    "# Creating a Series from a list\n",
    "x = pd.Series([10,20,30,40,50])\n",
    "x"
   ]
  },
  {
   "cell_type": "code",
   "execution_count": 4,
   "id": "2cb2940a-9eda-47a8-8dfe-547396446ae4",
   "metadata": {},
   "outputs": [
    {
     "data": {
      "text/plain": [
       "RangeIndex(start=0, stop=5, step=1)"
      ]
     },
     "execution_count": 4,
     "metadata": {},
     "output_type": "execute_result"
    }
   ],
   "source": [
    "# We can access different components seperately:\n",
    "\n",
    "# Accessing the index\n",
    "x.index"
   ]
  },
  {
   "cell_type": "code",
   "execution_count": 5,
   "id": "66cf5f19-31a0-4e43-91f7-5a0b9eea462e",
   "metadata": {},
   "outputs": [
    {
     "data": {
      "text/plain": [
       "array([10, 20, 30, 40, 50])"
      ]
     },
     "execution_count": 5,
     "metadata": {},
     "output_type": "execute_result"
    }
   ],
   "source": [
    "# Accessing values\n",
    "x.values"
   ]
  },
  {
   "cell_type": "code",
   "execution_count": 6,
   "id": "a3d0272e-a53a-466e-99cd-200edc603b02",
   "metadata": {},
   "outputs": [
    {
     "data": {
      "text/plain": [
       "dtype('int64')"
      ]
     },
     "execution_count": 6,
     "metadata": {},
     "output_type": "execute_result"
    }
   ],
   "source": [
    "# Acccessing the dtype\n",
    "# A Series is a ndarray, thus it is homogenous and CANNOT store multiple dtypes\n",
    "x.dtype"
   ]
  },
  {
   "cell_type": "code",
   "execution_count": 7,
   "id": "c9a2ae95-3e6b-4c27-9a37-d9c9711762c8",
   "metadata": {},
   "outputs": [
    {
     "data": {
      "text/plain": [
       "Don      450\n",
       "Mike     650\n",
       "Edwin    870\n",
       "dtype: int64"
      ]
     },
     "execution_count": 7,
     "metadata": {},
     "output_type": "execute_result"
    }
   ],
   "source": [
    "# Creating a Series with an Index\n",
    "data = [450, 650, 870]\n",
    "sales = Series(data, index = [\"Don\", \"Mike\", \"Edwin\"])\n",
    "sales"
   ]
  },
  {
   "cell_type": "code",
   "execution_count": 8,
   "id": "fd1da0d7-43fe-46ed-9c0f-51d39ecf5d74",
   "metadata": {},
   "outputs": [
    {
     "data": {
      "text/plain": [
       "pandas.core.series.Series"
      ]
     },
     "execution_count": 8,
     "metadata": {},
     "output_type": "execute_result"
    }
   ],
   "source": [
    "# Check the type\n",
    "type(sales)"
   ]
  },
  {
   "cell_type": "code",
   "execution_count": 9,
   "id": "98598359-c82f-4297-96bb-134018ec94af",
   "metadata": {},
   "outputs": [
    {
     "data": {
      "text/plain": [
       "Index(['Don', 'Mike', 'Edwin'], dtype='object')"
      ]
     },
     "execution_count": 9,
     "metadata": {},
     "output_type": "execute_result"
    }
   ],
   "source": [
    "# If we check the index of sales, we will get the values, rather than the range\n",
    "sales.index"
   ]
  },
  {
   "cell_type": "code",
   "execution_count": 10,
   "id": "abec7e4e-b9e0-4cca-ba54-c907c2c40772",
   "metadata": {},
   "outputs": [
    {
     "data": {
      "text/plain": [
       "np.int64(450)"
      ]
     },
     "execution_count": 10,
     "metadata": {},
     "output_type": "execute_result"
    }
   ],
   "source": [
    "sales[\"Don\"]"
   ]
  },
  {
   "cell_type": "code",
   "execution_count": 11,
   "id": "312b2b2b-254b-4a3a-8aeb-b1771fa66194",
   "metadata": {},
   "outputs": [
    {
     "name": "stderr",
     "output_type": "stream",
     "text": [
      "C:\\Users\\memer\\AppData\\Local\\Temp\\ipykernel_58576\\1101347017.py:1: FutureWarning: Series.__getitem__ treating keys as positions is deprecated. In a future version, integer keys will always be treated as labels (consistent with DataFrame behavior). To access a value by position, use `ser.iloc[pos]`\n",
      "  sales[0]\n"
     ]
    },
    {
     "data": {
      "text/plain": [
       "np.int64(450)"
      ]
     },
     "execution_count": 11,
     "metadata": {},
     "output_type": "execute_result"
    }
   ],
   "source": [
    "sales[0]"
   ]
  },
  {
   "cell_type": "markdown",
   "id": "a0da0c8d-f7f7-408d-8e57-d7580c79db6b",
   "metadata": {},
   "source": [
    "### Checking for conditions"
   ]
  },
  {
   "cell_type": "code",
   "execution_count": 12,
   "id": "d712d5a8-e312-4919-8b5c-892bfe45a99e",
   "metadata": {},
   "outputs": [
    {
     "data": {
      "text/plain": [
       "Don      False\n",
       "Mike      True\n",
       "Edwin     True\n",
       "dtype: bool"
      ]
     },
     "execution_count": 12,
     "metadata": {},
     "output_type": "execute_result"
    }
   ],
   "source": [
    "# You can filter based on conditions\n",
    "sales>500\n",
    "# This will usually return booleans"
   ]
  },
  {
   "cell_type": "code",
   "execution_count": 13,
   "id": "a5fd0327-fcf5-404b-9fd2-f14bfcda6261",
   "metadata": {},
   "outputs": [
    {
     "data": {
      "text/plain": [
       "Mike     650\n",
       "Edwin    870\n",
       "dtype: int64"
      ]
     },
     "execution_count": 13,
     "metadata": {},
     "output_type": "execute_result"
    }
   ],
   "source": [
    "# We can use these booleans\n",
    "sales[[False, True, True]]"
   ]
  },
  {
   "cell_type": "code",
   "execution_count": 14,
   "id": "39c0e2af-81bd-4cf7-96e1-82ad559e5ae3",
   "metadata": {},
   "outputs": [
    {
     "data": {
      "text/plain": [
       "Mike     650\n",
       "Edwin    870\n",
       "dtype: int64"
      ]
     },
     "execution_count": 14,
     "metadata": {},
     "output_type": "execute_result"
    }
   ],
   "source": [
    "# If we want to see values greater than 500, we can use those booleans\n",
    "sales[sales>500]"
   ]
  },
  {
   "cell_type": "code",
   "execution_count": 15,
   "id": "d4d0b027-dc4e-4fe2-9962-1d9b095a96f5",
   "metadata": {},
   "outputs": [
    {
     "data": {
      "text/plain": [
       "True"
      ]
     },
     "execution_count": 15,
     "metadata": {},
     "output_type": "execute_result"
    }
   ],
   "source": [
    "# Checking the names in the index\n",
    "\"Don\" in sales"
   ]
  },
  {
   "cell_type": "code",
   "execution_count": 16,
   "id": "9f5926d4-74cb-4025-b12e-4297937580dc",
   "metadata": {},
   "outputs": [
    {
     "data": {
      "text/plain": [
       "False"
      ]
     },
     "execution_count": 16,
     "metadata": {},
     "output_type": "execute_result"
    }
   ],
   "source": [
    "# False example\n",
    "\"Sally\" in sales"
   ]
  },
  {
   "cell_type": "code",
   "execution_count": 17,
   "id": "09d6b070-b8c0-45ef-bcef-495ec7981a0c",
   "metadata": {},
   "outputs": [
    {
     "data": {
      "text/plain": [
       "False"
      ]
     },
     "execution_count": 17,
     "metadata": {},
     "output_type": "execute_result"
    }
   ],
   "source": [
    "# What about this\n",
    "450 in sales\n",
    "# 450 is not an index, it is a value"
   ]
  },
  {
   "cell_type": "markdown",
   "id": "c29a2708-191a-40bd-b3cf-b3fc453f2024",
   "metadata": {},
   "source": [
    "## Working with Dictionaries"
   ]
  },
  {
   "cell_type": "code",
   "execution_count": 18,
   "id": "9f866034-23c8-4dec-b28c-a0c964dd8a7c",
   "metadata": {},
   "outputs": [
    {
     "data": {
      "text/plain": [
       "{'Don': 450, 'Mike': 650, 'Edwin': 870}"
      ]
     },
     "execution_count": 18,
     "metadata": {},
     "output_type": "execute_result"
    }
   ],
   "source": [
    "# Converting a Series to a Dictionary\n",
    "sales_dict = sales.to_dict()\n",
    "sales_dict\n",
    "# The indexes become the dictionary keys"
   ]
  },
  {
   "cell_type": "code",
   "execution_count": 19,
   "id": "d6a2d4b2-93c5-4892-b3b6-672d0aaa6bc5",
   "metadata": {},
   "outputs": [
    {
     "data": {
      "text/plain": [
       "Don      450\n",
       "Mike     650\n",
       "Edwin    870\n",
       "dtype: int64"
      ]
     },
     "execution_count": 19,
     "metadata": {},
     "output_type": "execute_result"
    }
   ],
   "source": [
    "# Converting a dictionary to a Series\n",
    "sales_ser = Series(sales_dict)\n",
    "sales_ser"
   ]
  },
  {
   "cell_type": "markdown",
   "id": "91d714a3-0ca6-4f93-ad29-b301f976d413",
   "metadata": {},
   "source": [
    "## Adding entries and working with Nan/null values"
   ]
  },
  {
   "cell_type": "code",
   "execution_count": 20,
   "id": "927b32b2-85f1-4e73-8fc6-b38cc606e728",
   "metadata": {},
   "outputs": [
    {
     "data": {
      "text/plain": [
       "Don      450.0\n",
       "Mike     650.0\n",
       "Sally      NaN\n",
       "Edwin    870.0\n",
       "Lucy       NaN\n",
       "dtype: float64"
      ]
     },
     "execution_count": 20,
     "metadata": {},
     "output_type": "execute_result"
    }
   ],
   "source": [
    "# We can create a new Series from an existing Series\n",
    "# If we specify names in the index that were NOT there already, NaN values will be assigned\n",
    "new_sales = Series(sales, index = [\"Don\", \"Mike\", \"Sally\", \"Edwin\", \"Lucy\"])\n",
    "new_sales"
   ]
  },
  {
   "cell_type": "code",
   "execution_count": 21,
   "id": "6a9a5220-90ad-4153-8bde-281283768e80",
   "metadata": {},
   "outputs": [
    {
     "data": {
      "text/plain": [
       "Don      False\n",
       "Mike     False\n",
       "Sally     True\n",
       "Edwin    False\n",
       "Lucy      True\n",
       "dtype: bool"
      ]
     },
     "execution_count": 21,
     "metadata": {},
     "output_type": "execute_result"
    }
   ],
   "source": [
    "# We can check if there are any NaN values in a Series\n",
    "# For this we can use Numpy\n",
    "np.isnan(new_sales)\n",
    "# Shows True for any NaN values"
   ]
  },
  {
   "cell_type": "code",
   "execution_count": 22,
   "id": "cff4bd47-93f3-438b-b868-020f6f72e93b",
   "metadata": {},
   "outputs": [
    {
     "data": {
      "text/plain": [
       "Don      False\n",
       "Mike     False\n",
       "Sally     True\n",
       "Edwin    False\n",
       "Lucy      True\n",
       "dtype: bool"
      ]
     },
     "execution_count": 22,
     "metadata": {},
     "output_type": "execute_result"
    }
   ],
   "source": [
    "# To check for null values, use Pandas\n",
    "pd.isnull(new_sales)"
   ]
  },
  {
   "cell_type": "markdown",
   "id": "4397595f-a0ba-4a02-a92c-47a4b9fcb3a0",
   "metadata": {},
   "source": [
    "## Naming components in a Series"
   ]
  },
  {
   "cell_type": "code",
   "execution_count": 23,
   "id": "5ed3781b-8894-4323-85fa-5860bdec534d",
   "metadata": {},
   "outputs": [
    {
     "data": {
      "text/plain": [
       "Sales Person\n",
       "Don      450\n",
       "Mike     650\n",
       "Edwin    870\n",
       "dtype: int64"
      ]
     },
     "execution_count": 23,
     "metadata": {},
     "output_type": "execute_result"
    }
   ],
   "source": [
    "# Name an index\n",
    "sales.index.name = \"Sales Person\"\n",
    "sales"
   ]
  },
  {
   "cell_type": "code",
   "execution_count": 24,
   "id": "cd54d82c-e4d9-4b67-842e-5503c100ba23",
   "metadata": {},
   "outputs": [
    {
     "data": {
      "text/plain": [
       "Sales Person\n",
       "Don      450\n",
       "Mike     650\n",
       "Edwin    870\n",
       "Name: Total TV Sales, dtype: int64"
      ]
     },
     "execution_count": 24,
     "metadata": {},
     "output_type": "execute_result"
    }
   ],
   "source": [
    "# Name a Series\n",
    "sales.name = \"Total TV Sales\"\n",
    "sales"
   ]
  },
  {
   "cell_type": "markdown",
   "id": "f948b570-6051-430b-a9f5-633eea207137",
   "metadata": {},
   "source": [
    "# DataFrames\n",
    "\n",
    "DataFrame are two-dimensional, size-mutable, potentially heterogeneous tabular data structures. This data structure contains TWO labelled axes (rows and columns)"
   ]
  },
  {
   "cell_type": "markdown",
   "id": "c7e15487-62b2-4e90-920c-68eb8ba9c169",
   "metadata": {},
   "source": [
    "## Creating a DataFrame"
   ]
  },
  {
   "cell_type": "code",
   "execution_count": 25,
   "id": "9f073f65-8f52-43b8-94b6-3138baaea751",
   "metadata": {},
   "outputs": [
    {
     "data": {
      "text/html": [
       "<div>\n",
       "<style scoped>\n",
       "    .dataframe tbody tr th:only-of-type {\n",
       "        vertical-align: middle;\n",
       "    }\n",
       "\n",
       "    .dataframe tbody tr th {\n",
       "        vertical-align: top;\n",
       "    }\n",
       "\n",
       "    .dataframe thead th {\n",
       "        text-align: right;\n",
       "    }\n",
       "</style>\n",
       "<table border=\"1\" class=\"dataframe\">\n",
       "  <thead>\n",
       "    <tr style=\"text-align: right;\">\n",
       "      <th></th>\n",
       "      <th>Name</th>\n",
       "      <th>Age</th>\n",
       "    </tr>\n",
       "  </thead>\n",
       "  <tbody>\n",
       "    <tr>\n",
       "      <th>0</th>\n",
       "      <td>Adrian</td>\n",
       "      <td>20</td>\n",
       "    </tr>\n",
       "    <tr>\n",
       "      <th>1</th>\n",
       "      <td>Bethany</td>\n",
       "      <td>23</td>\n",
       "    </tr>\n",
       "    <tr>\n",
       "      <th>2</th>\n",
       "      <td>Chloe</td>\n",
       "      <td>41</td>\n",
       "    </tr>\n",
       "  </tbody>\n",
       "</table>\n",
       "</div>"
      ],
      "text/plain": [
       "      Name  Age\n",
       "0   Adrian   20\n",
       "1  Bethany   23\n",
       "2    Chloe   41"
      ]
     },
     "execution_count": 25,
     "metadata": {},
     "output_type": "execute_result"
    }
   ],
   "source": [
    "# Creating a DataFrame from a list\n",
    "data = [[\"Adrian\", 20], [\"Bethany\", 23], [\"Chloe\", 41]]\n",
    "\n",
    "# When we create a DataFrame, we can specify what the column names are and the data type is\n",
    "df = pd.DataFrame(data, columns = [\"Name\", \"Age\"])\n",
    "df"
   ]
  },
  {
   "cell_type": "markdown",
   "id": "800b3944-fe4d-45ab-baf2-6ebf3c7b13d2",
   "metadata": {},
   "source": [
    "## Creating a DataFrame from a Dictionary"
   ]
  },
  {
   "cell_type": "code",
   "execution_count": 27,
   "id": "20e8e6be-2321-46dd-9f1e-6af073153f49",
   "metadata": {},
   "outputs": [
    {
     "data": {
      "text/html": [
       "<div>\n",
       "<style scoped>\n",
       "    .dataframe tbody tr th:only-of-type {\n",
       "        vertical-align: middle;\n",
       "    }\n",
       "\n",
       "    .dataframe tbody tr th {\n",
       "        vertical-align: top;\n",
       "    }\n",
       "\n",
       "    .dataframe thead th {\n",
       "        text-align: right;\n",
       "    }\n",
       "</style>\n",
       "<table border=\"1\" class=\"dataframe\">\n",
       "  <thead>\n",
       "    <tr style=\"text-align: right;\">\n",
       "      <th></th>\n",
       "      <th>Name</th>\n",
       "      <th>Age</th>\n",
       "      <th>City</th>\n",
       "    </tr>\n",
       "  </thead>\n",
       "  <tbody>\n",
       "    <tr>\n",
       "      <th>0</th>\n",
       "      <td>Alice</td>\n",
       "      <td>25</td>\n",
       "      <td>New York</td>\n",
       "    </tr>\n",
       "    <tr>\n",
       "      <th>1</th>\n",
       "      <td>Bob</td>\n",
       "      <td>30</td>\n",
       "      <td>Los Angeles</td>\n",
       "    </tr>\n",
       "    <tr>\n",
       "      <th>2</th>\n",
       "      <td>Charlie</td>\n",
       "      <td>35</td>\n",
       "      <td>Chicago</td>\n",
       "    </tr>\n",
       "  </tbody>\n",
       "</table>\n",
       "</div>"
      ],
      "text/plain": [
       "      Name  Age         City\n",
       "0    Alice   25     New York\n",
       "1      Bob   30  Los Angeles\n",
       "2  Charlie   35      Chicago"
      ]
     },
     "execution_count": 27,
     "metadata": {},
     "output_type": "execute_result"
    }
   ],
   "source": [
    "# Create an example dictionary\n",
    "dictionary = {\n",
    "    'Name': ['Alice', 'Bob', 'Charlie'],\n",
    "    'Age': [25, 30, 35],\n",
    "    'City': ['New York', 'Los Angeles', 'Chicago']\n",
    "}\n",
    "\n",
    "# Can use pd.DataFrame and pandas knows to use the keys as columns and the values as entries\n",
    "df_dict = pd.DataFrame(dictionary)\n",
    "df_dict"
   ]
  },
  {
   "cell_type": "markdown",
   "id": "8f640fad-b0be-4083-8616-57c90f391ad8",
   "metadata": {},
   "source": [
    "## Adding custom indexes for DataFrames"
   ]
  },
  {
   "cell_type": "code",
   "execution_count": 31,
   "id": "0231b380-5af2-49db-8ef9-e1e646bd48c9",
   "metadata": {},
   "outputs": [
    {
     "name": "stdout",
     "output_type": "stream",
     "text": [
      "        Name  Age         City\n",
      "ID1    Alice   25     New York\n",
      "ID2      Bob   30  Los Angeles\n",
      "ID3  Charlie   35      Chicago\n",
      "        Name  Age         City\n",
      "id1    Alice   25     New York\n",
      "id2      Bob   30  Los Angeles\n",
      "id3  Charlie   35      Chicago\n"
     ]
    }
   ],
   "source": [
    "# Adding custom indexes can be done via the index parameter in the DataFrame method\n",
    "\n",
    "# It can be done from DataFrame creation:\n",
    "df_dict = pd.DataFrame(dictionary, index = ['ID1', 'ID2', 'ID3'])\n",
    "print(df_dict)\n",
    "\n",
    "# Or it can be done by using the .index method\n",
    "df_dict.index = ['id1', 'id2', 'id3']\n",
    "print(df_dict)"
   ]
  },
  {
   "cell_type": "markdown",
   "id": "1927024f-36eb-4e18-97b5-363d8a2a4621",
   "metadata": {},
   "source": [
    "## Creating DataFrames from a list of Dictionaries"
   ]
  },
  {
   "cell_type": "code",
   "execution_count": 32,
   "id": "0d62db1e-0b31-43ef-b8bf-c6bbf3ef798f",
   "metadata": {},
   "outputs": [
    {
     "data": {
      "text/html": [
       "<div>\n",
       "<style scoped>\n",
       "    .dataframe tbody tr th:only-of-type {\n",
       "        vertical-align: middle;\n",
       "    }\n",
       "\n",
       "    .dataframe tbody tr th {\n",
       "        vertical-align: top;\n",
       "    }\n",
       "\n",
       "    .dataframe thead th {\n",
       "        text-align: right;\n",
       "    }\n",
       "</style>\n",
       "<table border=\"1\" class=\"dataframe\">\n",
       "  <thead>\n",
       "    <tr style=\"text-align: right;\">\n",
       "      <th></th>\n",
       "      <th>Name</th>\n",
       "      <th>Age</th>\n",
       "      <th>City</th>\n",
       "    </tr>\n",
       "  </thead>\n",
       "  <tbody>\n",
       "    <tr>\n",
       "      <th>0</th>\n",
       "      <td>Alice</td>\n",
       "      <td>25</td>\n",
       "      <td>New York</td>\n",
       "    </tr>\n",
       "    <tr>\n",
       "      <th>1</th>\n",
       "      <td>Bob</td>\n",
       "      <td>30</td>\n",
       "      <td>Los Angeles</td>\n",
       "    </tr>\n",
       "    <tr>\n",
       "      <th>2</th>\n",
       "      <td>Charlie</td>\n",
       "      <td>35</td>\n",
       "      <td>Chicago</td>\n",
       "    </tr>\n",
       "  </tbody>\n",
       "</table>\n",
       "</div>"
      ],
      "text/plain": [
       "      Name  Age         City\n",
       "0    Alice   25     New York\n",
       "1      Bob   30  Los Angeles\n",
       "2  Charlie   35      Chicago"
      ]
     },
     "execution_count": 32,
     "metadata": {},
     "output_type": "execute_result"
    }
   ],
   "source": [
    "# Using the same data as before to create a list of dictionaries\n",
    "dict_list = [\n",
    "    {'Name': 'Alice', 'Age': 25, 'City': 'New York'},\n",
    "    {'Name': 'Bob', 'Age': 30, 'City': 'Los Angeles'},\n",
    "    {'Name': 'Charlie', 'Age': 35, 'City': 'Chicago'}\n",
    "]\n",
    "# You can create a DataFrame by simply putting this through pd.DataFrame\n",
    "dict_list_df = pd.DataFrame(dict_list)\n",
    "dict_list_df"
   ]
  },
  {
   "cell_type": "markdown",
   "id": "547dc02b-61e9-4f76-bd25-37fbe1edf852",
   "metadata": {},
   "source": [
    "## Creating DataFrames from a Series"
   ]
  },
  {
   "cell_type": "code",
   "execution_count": 48,
   "id": "369e4fa5-4383-4525-a64d-a5b81a5fd066",
   "metadata": {},
   "outputs": [
    {
     "data": {
      "text/html": [
       "<div>\n",
       "<style scoped>\n",
       "    .dataframe tbody tr th:only-of-type {\n",
       "        vertical-align: middle;\n",
       "    }\n",
       "\n",
       "    .dataframe tbody tr th {\n",
       "        vertical-align: top;\n",
       "    }\n",
       "\n",
       "    .dataframe thead th {\n",
       "        text-align: right;\n",
       "    }\n",
       "</style>\n",
       "<table border=\"1\" class=\"dataframe\">\n",
       "  <thead>\n",
       "    <tr style=\"text-align: right;\">\n",
       "      <th></th>\n",
       "      <th>Name</th>\n",
       "    </tr>\n",
       "  </thead>\n",
       "  <tbody>\n",
       "    <tr>\n",
       "      <th>0</th>\n",
       "      <td>Alice</td>\n",
       "    </tr>\n",
       "    <tr>\n",
       "      <th>1</th>\n",
       "      <td>Bob</td>\n",
       "    </tr>\n",
       "    <tr>\n",
       "      <th>2</th>\n",
       "      <td>Charlie</td>\n",
       "    </tr>\n",
       "  </tbody>\n",
       "</table>\n",
       "</div>"
      ],
      "text/plain": [
       "      Name\n",
       "0    Alice\n",
       "1      Bob\n",
       "2  Charlie"
      ]
     },
     "execution_count": 48,
     "metadata": {},
     "output_type": "execute_result"
    }
   ],
   "source": [
    "# Creating a DataFrame from a Series is simple\n",
    "# First create a Series\n",
    "s = pd.Series(['Alice', 'Bob', 'Charlie'], name='Name')\n",
    "\n",
    "# Then create the DataFrame\n",
    "df_series = pd.DataFrame(s)\n",
    "df_series\n",
    "\n",
    "# This returns a single column. A Series is basically a single column DataFrame"
   ]
  },
  {
   "cell_type": "markdown",
   "id": "0b67c11d-f348-4f59-a0c0-452a60e60e1a",
   "metadata": {},
   "source": [
    "## Adding a Series to a DataFrame"
   ]
  },
  {
   "cell_type": "code",
   "execution_count": 49,
   "id": "f0a929bf-26ee-4e2d-985d-5218f7af2cf2",
   "metadata": {},
   "outputs": [
    {
     "data": {
      "text/html": [
       "<div>\n",
       "<style scoped>\n",
       "    .dataframe tbody tr th:only-of-type {\n",
       "        vertical-align: middle;\n",
       "    }\n",
       "\n",
       "    .dataframe tbody tr th {\n",
       "        vertical-align: top;\n",
       "    }\n",
       "\n",
       "    .dataframe thead th {\n",
       "        text-align: right;\n",
       "    }\n",
       "</style>\n",
       "<table border=\"1\" class=\"dataframe\">\n",
       "  <thead>\n",
       "    <tr style=\"text-align: right;\">\n",
       "      <th></th>\n",
       "      <th>Name</th>\n",
       "      <th>Age</th>\n",
       "    </tr>\n",
       "  </thead>\n",
       "  <tbody>\n",
       "    <tr>\n",
       "      <th>0</th>\n",
       "      <td>Alice</td>\n",
       "      <td>25</td>\n",
       "    </tr>\n",
       "    <tr>\n",
       "      <th>1</th>\n",
       "      <td>Bob</td>\n",
       "      <td>30</td>\n",
       "    </tr>\n",
       "    <tr>\n",
       "      <th>2</th>\n",
       "      <td>Charlie</td>\n",
       "      <td>35</td>\n",
       "    </tr>\n",
       "  </tbody>\n",
       "</table>\n",
       "</div>"
      ],
      "text/plain": [
       "      Name  Age\n",
       "0    Alice   25\n",
       "1      Bob   30\n",
       "2  Charlie   35"
      ]
     },
     "execution_count": 49,
     "metadata": {},
     "output_type": "execute_result"
    }
   ],
   "source": [
    "# Adding a Series to a DataFrame is equivalent to adding a column\n",
    "\n",
    "new_col = pd.Series([25, 30, 35], name = 'Age')\n",
    "\n",
    "# We can now add this Series to the DataFrame\n",
    "df_series['Age'] = new_col\n",
    "df_series"
   ]
  },
  {
   "cell_type": "markdown",
   "id": "fa533561-7f6a-49ed-9d40-72d734313b60",
   "metadata": {},
   "source": [
    "## Changing/Shifting the index of a DataFrame"
   ]
  },
  {
   "cell_type": "code",
   "execution_count": 50,
   "id": "23b8c85d-e354-4bd4-a989-774f5d450c3e",
   "metadata": {},
   "outputs": [
    {
     "data": {
      "text/html": [
       "<div>\n",
       "<style scoped>\n",
       "    .dataframe tbody tr th:only-of-type {\n",
       "        vertical-align: middle;\n",
       "    }\n",
       "\n",
       "    .dataframe tbody tr th {\n",
       "        vertical-align: top;\n",
       "    }\n",
       "\n",
       "    .dataframe thead th {\n",
       "        text-align: right;\n",
       "    }\n",
       "</style>\n",
       "<table border=\"1\" class=\"dataframe\">\n",
       "  <thead>\n",
       "    <tr style=\"text-align: right;\">\n",
       "      <th></th>\n",
       "      <th>Age</th>\n",
       "    </tr>\n",
       "    <tr>\n",
       "      <th>Name</th>\n",
       "      <th></th>\n",
       "    </tr>\n",
       "  </thead>\n",
       "  <tbody>\n",
       "    <tr>\n",
       "      <th>Alice</th>\n",
       "      <td>25</td>\n",
       "    </tr>\n",
       "    <tr>\n",
       "      <th>Bob</th>\n",
       "      <td>30</td>\n",
       "    </tr>\n",
       "    <tr>\n",
       "      <th>Charlie</th>\n",
       "      <td>35</td>\n",
       "    </tr>\n",
       "  </tbody>\n",
       "</table>\n",
       "</div>"
      ],
      "text/plain": [
       "         Age\n",
       "Name        \n",
       "Alice     25\n",
       "Bob       30\n",
       "Charlie   35"
      ]
     },
     "execution_count": 50,
     "metadata": {},
     "output_type": "execute_result"
    }
   ],
   "source": [
    "# To change the index to a column one can use:\n",
    "df_series = df_series.set_index('Name')\n",
    "df_series\n",
    "# This changes the index to the Name column"
   ]
  },
  {
   "cell_type": "code",
   "execution_count": 51,
   "id": "964eba44-f5bc-4183-88c1-b860a97b21c7",
   "metadata": {},
   "outputs": [
    {
     "data": {
      "text/html": [
       "<div>\n",
       "<style scoped>\n",
       "    .dataframe tbody tr th:only-of-type {\n",
       "        vertical-align: middle;\n",
       "    }\n",
       "\n",
       "    .dataframe tbody tr th {\n",
       "        vertical-align: top;\n",
       "    }\n",
       "\n",
       "    .dataframe thead th {\n",
       "        text-align: right;\n",
       "    }\n",
       "</style>\n",
       "<table border=\"1\" class=\"dataframe\">\n",
       "  <thead>\n",
       "    <tr style=\"text-align: right;\">\n",
       "      <th></th>\n",
       "      <th>Age</th>\n",
       "    </tr>\n",
       "    <tr>\n",
       "      <th>Name</th>\n",
       "      <th></th>\n",
       "    </tr>\n",
       "  </thead>\n",
       "  <tbody>\n",
       "    <tr>\n",
       "      <th>Alice</th>\n",
       "      <td>NaN</td>\n",
       "    </tr>\n",
       "    <tr>\n",
       "      <th>Bob</th>\n",
       "      <td>25.0</td>\n",
       "    </tr>\n",
       "    <tr>\n",
       "      <th>Charlie</th>\n",
       "      <td>30.0</td>\n",
       "    </tr>\n",
       "  </tbody>\n",
       "</table>\n",
       "</div>"
      ],
      "text/plain": [
       "          Age\n",
       "Name         \n",
       "Alice     NaN\n",
       "Bob      25.0\n",
       "Charlie  30.0"
      ]
     },
     "execution_count": 51,
     "metadata": {},
     "output_type": "execute_result"
    }
   ],
   "source": [
    "# You can also shift the index a number of steps\n",
    "df_series = df_series.shift(1)\n",
    "df_series\n",
    "# This shifted the index downwards by 1, making the top row have a NaN entry"
   ]
  },
  {
   "cell_type": "markdown",
   "id": "bf20beae-178f-45bb-9008-c4f7c5519912",
   "metadata": {},
   "source": [
    "## How to fill missing values in a DataFrame?"
   ]
  },
  {
   "cell_type": "code",
   "execution_count": 57,
   "id": "a901f296-57e1-448f-9091-0d3d9808a1d4",
   "metadata": {},
   "outputs": [
    {
     "data": {
      "text/html": [
       "<div>\n",
       "<style scoped>\n",
       "    .dataframe tbody tr th:only-of-type {\n",
       "        vertical-align: middle;\n",
       "    }\n",
       "\n",
       "    .dataframe tbody tr th {\n",
       "        vertical-align: top;\n",
       "    }\n",
       "\n",
       "    .dataframe thead th {\n",
       "        text-align: right;\n",
       "    }\n",
       "</style>\n",
       "<table border=\"1\" class=\"dataframe\">\n",
       "  <thead>\n",
       "    <tr style=\"text-align: right;\">\n",
       "      <th></th>\n",
       "      <th>Name</th>\n",
       "      <th>Age</th>\n",
       "      <th>City</th>\n",
       "    </tr>\n",
       "  </thead>\n",
       "  <tbody>\n",
       "    <tr>\n",
       "      <th>0</th>\n",
       "      <td>Alice</td>\n",
       "      <td>25.0</td>\n",
       "      <td>New York</td>\n",
       "    </tr>\n",
       "    <tr>\n",
       "      <th>1</th>\n",
       "      <td>Bob</td>\n",
       "      <td>30.0</td>\n",
       "      <td>Unknown</td>\n",
       "    </tr>\n",
       "    <tr>\n",
       "      <th>2</th>\n",
       "      <td>Charlie</td>\n",
       "      <td>Unknown</td>\n",
       "      <td>Chicago</td>\n",
       "    </tr>\n",
       "    <tr>\n",
       "      <th>3</th>\n",
       "      <td>Unknown</td>\n",
       "      <td>40.0</td>\n",
       "      <td>San Francisco</td>\n",
       "    </tr>\n",
       "  </tbody>\n",
       "</table>\n",
       "</div>"
      ],
      "text/plain": [
       "      Name      Age           City\n",
       "0    Alice     25.0       New York\n",
       "1      Bob     30.0        Unknown\n",
       "2  Charlie  Unknown        Chicago\n",
       "3  Unknown     40.0  San Francisco"
      ]
     },
     "execution_count": 57,
     "metadata": {},
     "output_type": "execute_result"
    }
   ],
   "source": [
    "# You can fill all NaN values with a specific value\n",
    "missing = {\n",
    "    'Name': ['Alice', 'Bob', 'Charlie', None],\n",
    "    'Age': [25, 30, None, 40],\n",
    "    'City': ['New York', None, 'Chicago', 'San Francisco']\n",
    "}\n",
    "\n",
    "df_missing = pd.DataFrame(missing)\n",
    "\n",
    "df_filled = df_missing.fillna('Unknown')\n",
    "\n",
    "df_filled"
   ]
  },
  {
   "cell_type": "markdown",
   "id": "b89220b3-c83f-457c-9317-bbaeedb6a120",
   "metadata": {},
   "source": [
    "### What if we don't want to fill all NaN with the same value?"
   ]
  },
  {
   "cell_type": "code",
   "execution_count": 59,
   "id": "99454838-5af2-4353-bf5f-f4b887d98f4c",
   "metadata": {},
   "outputs": [
    {
     "data": {
      "text/html": [
       "<div>\n",
       "<style scoped>\n",
       "    .dataframe tbody tr th:only-of-type {\n",
       "        vertical-align: middle;\n",
       "    }\n",
       "\n",
       "    .dataframe tbody tr th {\n",
       "        vertical-align: top;\n",
       "    }\n",
       "\n",
       "    .dataframe thead th {\n",
       "        text-align: right;\n",
       "    }\n",
       "</style>\n",
       "<table border=\"1\" class=\"dataframe\">\n",
       "  <thead>\n",
       "    <tr style=\"text-align: right;\">\n",
       "      <th></th>\n",
       "      <th>Name</th>\n",
       "      <th>Age</th>\n",
       "      <th>City</th>\n",
       "    </tr>\n",
       "  </thead>\n",
       "  <tbody>\n",
       "    <tr>\n",
       "      <th>0</th>\n",
       "      <td>Alice</td>\n",
       "      <td>25.0</td>\n",
       "      <td>New York</td>\n",
       "    </tr>\n",
       "    <tr>\n",
       "      <th>1</th>\n",
       "      <td>Bob</td>\n",
       "      <td>30.0</td>\n",
       "      <td>New York</td>\n",
       "    </tr>\n",
       "    <tr>\n",
       "      <th>2</th>\n",
       "      <td>Charlie</td>\n",
       "      <td>30.0</td>\n",
       "      <td>Chicago</td>\n",
       "    </tr>\n",
       "    <tr>\n",
       "      <th>3</th>\n",
       "      <td>Charlie</td>\n",
       "      <td>40.0</td>\n",
       "      <td>San Francisco</td>\n",
       "    </tr>\n",
       "  </tbody>\n",
       "</table>\n",
       "</div>"
      ],
      "text/plain": [
       "      Name   Age           City\n",
       "0    Alice  25.0       New York\n",
       "1      Bob  30.0       New York\n",
       "2  Charlie  30.0        Chicago\n",
       "3  Charlie  40.0  San Francisco"
      ]
     },
     "execution_count": 59,
     "metadata": {},
     "output_type": "execute_result"
    }
   ],
   "source": [
    "# You can also fill in missing values using the value from the previous or next row\n",
    "df_filled = df_missing.ffill() # Fills the missing values with the previous row's value\n",
    "df_filled"
   ]
  },
  {
   "cell_type": "code",
   "execution_count": 60,
   "id": "b1638000-e2aa-4294-965c-33c710bf4803",
   "metadata": {},
   "outputs": [
    {
     "data": {
      "text/html": [
       "<div>\n",
       "<style scoped>\n",
       "    .dataframe tbody tr th:only-of-type {\n",
       "        vertical-align: middle;\n",
       "    }\n",
       "\n",
       "    .dataframe tbody tr th {\n",
       "        vertical-align: top;\n",
       "    }\n",
       "\n",
       "    .dataframe thead th {\n",
       "        text-align: right;\n",
       "    }\n",
       "</style>\n",
       "<table border=\"1\" class=\"dataframe\">\n",
       "  <thead>\n",
       "    <tr style=\"text-align: right;\">\n",
       "      <th></th>\n",
       "      <th>Name</th>\n",
       "      <th>Age</th>\n",
       "      <th>City</th>\n",
       "    </tr>\n",
       "  </thead>\n",
       "  <tbody>\n",
       "    <tr>\n",
       "      <th>0</th>\n",
       "      <td>Alice</td>\n",
       "      <td>25.0</td>\n",
       "      <td>New York</td>\n",
       "    </tr>\n",
       "    <tr>\n",
       "      <th>1</th>\n",
       "      <td>Bob</td>\n",
       "      <td>30.0</td>\n",
       "      <td>Chicago</td>\n",
       "    </tr>\n",
       "    <tr>\n",
       "      <th>2</th>\n",
       "      <td>Charlie</td>\n",
       "      <td>40.0</td>\n",
       "      <td>Chicago</td>\n",
       "    </tr>\n",
       "    <tr>\n",
       "      <th>3</th>\n",
       "      <td>None</td>\n",
       "      <td>40.0</td>\n",
       "      <td>San Francisco</td>\n",
       "    </tr>\n",
       "  </tbody>\n",
       "</table>\n",
       "</div>"
      ],
      "text/plain": [
       "      Name   Age           City\n",
       "0    Alice  25.0       New York\n",
       "1      Bob  30.0        Chicago\n",
       "2  Charlie  40.0        Chicago\n",
       "3     None  40.0  San Francisco"
      ]
     },
     "execution_count": 60,
     "metadata": {},
     "output_type": "execute_result"
    }
   ],
   "source": [
    "df_filled = df_missing.bfill() # Fills the missing values with the next row's value\n",
    "df_filled"
   ]
  },
  {
   "cell_type": "markdown",
   "id": "9a594c03-7006-4ff7-b9cc-2d01bdddd4ac",
   "metadata": {},
   "source": [
    "### What is .interpolate()?"
   ]
  },
  {
   "cell_type": "code",
   "execution_count": 64,
   "id": "f5fa237d-2f87-4c38-99ee-846e2c65df8f",
   "metadata": {},
   "outputs": [
    {
     "data": {
      "text/html": [
       "<div>\n",
       "<style scoped>\n",
       "    .dataframe tbody tr th:only-of-type {\n",
       "        vertical-align: middle;\n",
       "    }\n",
       "\n",
       "    .dataframe tbody tr th {\n",
       "        vertical-align: top;\n",
       "    }\n",
       "\n",
       "    .dataframe thead th {\n",
       "        text-align: right;\n",
       "    }\n",
       "</style>\n",
       "<table border=\"1\" class=\"dataframe\">\n",
       "  <thead>\n",
       "    <tr style=\"text-align: right;\">\n",
       "      <th></th>\n",
       "      <th>A</th>\n",
       "      <th>B</th>\n",
       "    </tr>\n",
       "  </thead>\n",
       "  <tbody>\n",
       "    <tr>\n",
       "      <th>0</th>\n",
       "      <td>1.0</td>\n",
       "      <td>NaN</td>\n",
       "    </tr>\n",
       "    <tr>\n",
       "      <th>1</th>\n",
       "      <td>2.0</td>\n",
       "      <td>2.0</td>\n",
       "    </tr>\n",
       "    <tr>\n",
       "      <th>2</th>\n",
       "      <td>3.0</td>\n",
       "      <td>3.0</td>\n",
       "    </tr>\n",
       "    <tr>\n",
       "      <th>3</th>\n",
       "      <td>4.0</td>\n",
       "      <td>3.0</td>\n",
       "    </tr>\n",
       "  </tbody>\n",
       "</table>\n",
       "</div>"
      ],
      "text/plain": [
       "     A    B\n",
       "0  1.0  NaN\n",
       "1  2.0  2.0\n",
       "2  3.0  3.0\n",
       "3  4.0  3.0"
      ]
     },
     "execution_count": 64,
     "metadata": {},
     "output_type": "execute_result"
    }
   ],
   "source": [
    "# Interpolate is a method that allows for filling missing values by interpolating between existing ones\n",
    "# A variety of methods are supported, like linear, polynomial interpolation\n",
    "\n",
    "interpolate = {\n",
    "    'A': [1, 2, None, 4],\n",
    "    'B': [None, 2, 3, None]\n",
    "}\n",
    "df_inter = pd.DataFrame(interpolate)\n",
    "\n",
    "df_interpolated = df_inter.interpolate(method='linear')\n",
    "\n",
    "df_interpolated\n",
    "\n",
    "# This uses linear interpolation\n",
    "# The first value in the B column does not get interpolated as there is no previous data to interpolate from"
   ]
  },
  {
   "cell_type": "markdown",
   "id": "bf79efc5-f11e-4448-b5b0-3d20f091e856",
   "metadata": {},
   "source": [
    "## How to drop values from a DataFrame?"
   ]
  },
  {
   "cell_type": "code",
   "execution_count": 101,
   "id": "68a35eb4-b63b-45a4-908a-48d1119aecf5",
   "metadata": {},
   "outputs": [
    {
     "data": {
      "text/plain": [
       "RangeIndex(start=0, stop=4, step=1)"
      ]
     },
     "execution_count": 101,
     "metadata": {},
     "output_type": "execute_result"
    }
   ],
   "source": [
    "# You can drop values in a dataframe using the .drop() method\n",
    "\n",
    "data = {\n",
    "    'Name': ['Alice', 'Bob', 'Charlie', 'David'],\n",
    "    'Age': [25, 30, 35, 40],\n",
    "    'City': ['New York', 'Los Angeles', 'Chicago', 'San Francisco']\n",
    "}\n",
    "df = pd.DataFrame(data)\n",
    "\n",
    "df.index"
   ]
  },
  {
   "cell_type": "markdown",
   "id": "07e912cf-f97b-4269-a74e-2f03b01696e7",
   "metadata": {},
   "source": [
    "### Dropping by column name"
   ]
  },
  {
   "cell_type": "code",
   "execution_count": 102,
   "id": "c392e35c-ecd1-4ede-b11f-3583f075ba45",
   "metadata": {},
   "outputs": [
    {
     "data": {
      "text/html": [
       "<div>\n",
       "<style scoped>\n",
       "    .dataframe tbody tr th:only-of-type {\n",
       "        vertical-align: middle;\n",
       "    }\n",
       "\n",
       "    .dataframe tbody tr th {\n",
       "        vertical-align: top;\n",
       "    }\n",
       "\n",
       "    .dataframe thead th {\n",
       "        text-align: right;\n",
       "    }\n",
       "</style>\n",
       "<table border=\"1\" class=\"dataframe\">\n",
       "  <thead>\n",
       "    <tr style=\"text-align: right;\">\n",
       "      <th></th>\n",
       "      <th>Name</th>\n",
       "      <th>Age</th>\n",
       "    </tr>\n",
       "  </thead>\n",
       "  <tbody>\n",
       "    <tr>\n",
       "      <th>0</th>\n",
       "      <td>Alice</td>\n",
       "      <td>25</td>\n",
       "    </tr>\n",
       "    <tr>\n",
       "      <th>1</th>\n",
       "      <td>Bob</td>\n",
       "      <td>30</td>\n",
       "    </tr>\n",
       "    <tr>\n",
       "      <th>2</th>\n",
       "      <td>Charlie</td>\n",
       "      <td>35</td>\n",
       "    </tr>\n",
       "    <tr>\n",
       "      <th>3</th>\n",
       "      <td>David</td>\n",
       "      <td>40</td>\n",
       "    </tr>\n",
       "  </tbody>\n",
       "</table>\n",
       "</div>"
      ],
      "text/plain": [
       "      Name  Age\n",
       "0    Alice   25\n",
       "1      Bob   30\n",
       "2  Charlie   35\n",
       "3    David   40"
      ]
     },
     "execution_count": 102,
     "metadata": {},
     "output_type": "execute_result"
    }
   ],
   "source": [
    "# You can drop by column name\n",
    "df_dropped = df.drop(columns=['City'])\n",
    "df_dropped"
   ]
  },
  {
   "cell_type": "markdown",
   "id": "bafd58a9-4a58-4c87-bcde-0c89c24e2bb6",
   "metadata": {},
   "source": [
    "### Dropping by row index"
   ]
  },
  {
   "cell_type": "code",
   "execution_count": 103,
   "id": "9b19a505-19e4-43e6-864e-f77a837ece9b",
   "metadata": {},
   "outputs": [
    {
     "data": {
      "text/html": [
       "<div>\n",
       "<style scoped>\n",
       "    .dataframe tbody tr th:only-of-type {\n",
       "        vertical-align: middle;\n",
       "    }\n",
       "\n",
       "    .dataframe tbody tr th {\n",
       "        vertical-align: top;\n",
       "    }\n",
       "\n",
       "    .dataframe thead th {\n",
       "        text-align: right;\n",
       "    }\n",
       "</style>\n",
       "<table border=\"1\" class=\"dataframe\">\n",
       "  <thead>\n",
       "    <tr style=\"text-align: right;\">\n",
       "      <th></th>\n",
       "      <th>Name</th>\n",
       "      <th>Age</th>\n",
       "      <th>City</th>\n",
       "    </tr>\n",
       "  </thead>\n",
       "  <tbody>\n",
       "    <tr>\n",
       "      <th>0</th>\n",
       "      <td>Alice</td>\n",
       "      <td>25</td>\n",
       "      <td>New York</td>\n",
       "    </tr>\n",
       "    <tr>\n",
       "      <th>2</th>\n",
       "      <td>Charlie</td>\n",
       "      <td>35</td>\n",
       "      <td>Chicago</td>\n",
       "    </tr>\n",
       "    <tr>\n",
       "      <th>3</th>\n",
       "      <td>David</td>\n",
       "      <td>40</td>\n",
       "      <td>San Francisco</td>\n",
       "    </tr>\n",
       "  </tbody>\n",
       "</table>\n",
       "</div>"
      ],
      "text/plain": [
       "      Name  Age           City\n",
       "0    Alice   25       New York\n",
       "2  Charlie   35        Chicago\n",
       "3    David   40  San Francisco"
      ]
     },
     "execution_count": 103,
     "metadata": {},
     "output_type": "execute_result"
    }
   ],
   "source": [
    "# You can also drop rows by referring to their index\n",
    "\n",
    "df_dropped = df.drop(index=1) # Here we delete Bob\n",
    "df_dropped"
   ]
  },
  {
   "cell_type": "markdown",
   "id": "94859c58-280c-4c55-b5c4-25d16fa8e1d1",
   "metadata": {},
   "source": [
    "### Dropping rows based on a threshold/condition"
   ]
  },
  {
   "cell_type": "code",
   "execution_count": 104,
   "id": "38820d6d-17dd-4cc1-974c-d763f0ee57e0",
   "metadata": {},
   "outputs": [
    {
     "data": {
      "text/html": [
       "<div>\n",
       "<style scoped>\n",
       "    .dataframe tbody tr th:only-of-type {\n",
       "        vertical-align: middle;\n",
       "    }\n",
       "\n",
       "    .dataframe tbody tr th {\n",
       "        vertical-align: top;\n",
       "    }\n",
       "\n",
       "    .dataframe thead th {\n",
       "        text-align: right;\n",
       "    }\n",
       "</style>\n",
       "<table border=\"1\" class=\"dataframe\">\n",
       "  <thead>\n",
       "    <tr style=\"text-align: right;\">\n",
       "      <th></th>\n",
       "      <th>Name</th>\n",
       "      <th>Age</th>\n",
       "      <th>City</th>\n",
       "    </tr>\n",
       "  </thead>\n",
       "  <tbody>\n",
       "    <tr>\n",
       "      <th>0</th>\n",
       "      <td>Alice</td>\n",
       "      <td>25</td>\n",
       "      <td>New York</td>\n",
       "    </tr>\n",
       "    <tr>\n",
       "      <th>1</th>\n",
       "      <td>Bob</td>\n",
       "      <td>30</td>\n",
       "      <td>Los Angeles</td>\n",
       "    </tr>\n",
       "  </tbody>\n",
       "</table>\n",
       "</div>"
      ],
      "text/plain": [
       "    Name  Age         City\n",
       "0  Alice   25     New York\n",
       "1    Bob   30  Los Angeles"
      ]
     },
     "execution_count": 104,
     "metadata": {},
     "output_type": "execute_result"
    }
   ],
   "source": [
    "df_dropped = df[df['Age'] <= 30] # Here we drop any rows that are Age > 30\n",
    "df_dropped"
   ]
  },
  {
   "cell_type": "code",
   "execution_count": 110,
   "id": "0d3e46f7-3f03-4538-9838-a7f213cc68c4",
   "metadata": {},
   "outputs": [
    {
     "data": {
      "text/html": [
       "<div>\n",
       "<style scoped>\n",
       "    .dataframe tbody tr th:only-of-type {\n",
       "        vertical-align: middle;\n",
       "    }\n",
       "\n",
       "    .dataframe tbody tr th {\n",
       "        vertical-align: top;\n",
       "    }\n",
       "\n",
       "    .dataframe thead th {\n",
       "        text-align: right;\n",
       "    }\n",
       "</style>\n",
       "<table border=\"1\" class=\"dataframe\">\n",
       "  <thead>\n",
       "    <tr style=\"text-align: right;\">\n",
       "      <th></th>\n",
       "      <th>Name</th>\n",
       "      <th>Age</th>\n",
       "      <th>City</th>\n",
       "    </tr>\n",
       "  </thead>\n",
       "  <tbody>\n",
       "    <tr>\n",
       "      <th>0</th>\n",
       "      <td>Alice</td>\n",
       "      <td>25</td>\n",
       "      <td>New York</td>\n",
       "    </tr>\n",
       "  </tbody>\n",
       "</table>\n",
       "</div>"
      ],
      "text/plain": [
       "    Name  Age      City\n",
       "0  Alice   25  New York"
      ]
     },
     "execution_count": 110,
     "metadata": {},
     "output_type": "execute_result"
    }
   ],
   "source": [
    "# You can also filter based on multiple conditions with logic operators between\n",
    "df_dropped = df[((df['Age'] < 30) & (df['City'] != 'Chicago'))] # Here we drop any rows that are >= 30 and are from Chicago\n",
    "df_dropped"
   ]
  },
  {
   "cell_type": "markdown",
   "id": "c5908c3e-6434-4874-8b9e-80621fac1d0c",
   "metadata": {},
   "source": [
    "## Duplicate Rows"
   ]
  },
  {
   "cell_type": "markdown",
   "id": "07c89359-a650-4c94-a4a9-95d6aff59bb7",
   "metadata": {},
   "source": [
    "### How to delete duplicate rows"
   ]
  },
  {
   "cell_type": "code",
   "execution_count": 4,
   "id": "a5eeeef6-e6ea-42c6-8e66-8094a23af2f0",
   "metadata": {},
   "outputs": [
    {
     "data": {
      "text/html": [
       "<div>\n",
       "<style scoped>\n",
       "    .dataframe tbody tr th:only-of-type {\n",
       "        vertical-align: middle;\n",
       "    }\n",
       "\n",
       "    .dataframe tbody tr th {\n",
       "        vertical-align: top;\n",
       "    }\n",
       "\n",
       "    .dataframe thead th {\n",
       "        text-align: right;\n",
       "    }\n",
       "</style>\n",
       "<table border=\"1\" class=\"dataframe\">\n",
       "  <thead>\n",
       "    <tr style=\"text-align: right;\">\n",
       "      <th></th>\n",
       "      <th>Name</th>\n",
       "      <th>Age</th>\n",
       "      <th>City</th>\n",
       "    </tr>\n",
       "  </thead>\n",
       "  <tbody>\n",
       "    <tr>\n",
       "      <th>0</th>\n",
       "      <td>Alice</td>\n",
       "      <td>25</td>\n",
       "      <td>New York</td>\n",
       "    </tr>\n",
       "    <tr>\n",
       "      <th>1</th>\n",
       "      <td>Bob</td>\n",
       "      <td>30</td>\n",
       "      <td>Los Angeles</td>\n",
       "    </tr>\n",
       "    <tr>\n",
       "      <th>3</th>\n",
       "      <td>Charlie</td>\n",
       "      <td>35</td>\n",
       "      <td>Chicago</td>\n",
       "    </tr>\n",
       "    <tr>\n",
       "      <th>5</th>\n",
       "      <td>David</td>\n",
       "      <td>40</td>\n",
       "      <td>San Francisco</td>\n",
       "    </tr>\n",
       "  </tbody>\n",
       "</table>\n",
       "</div>"
      ],
      "text/plain": [
       "      Name  Age           City\n",
       "0    Alice   25       New York\n",
       "1      Bob   30    Los Angeles\n",
       "3  Charlie   35        Chicago\n",
       "5    David   40  San Francisco"
      ]
     },
     "execution_count": 4,
     "metadata": {},
     "output_type": "execute_result"
    }
   ],
   "source": [
    "# We can create a DataFrame with duplicate rows\n",
    "data = {\n",
    "    'Name': ['Alice', 'Bob', 'Alice', 'Charlie', 'Bob', 'David'],\n",
    "    'Age': [25, 30, 25, 35, 30, 40],\n",
    "    'City': ['New York', 'Los Angeles', 'New York', 'Chicago', 'Los Angeles', 'San Francisco']\n",
    "}\n",
    "\n",
    "df = pd.DataFrame(data)\n",
    "\n",
    "# To drop duplicate rows we use the following method:\n",
    "\n",
    "df_unique = df.drop_duplicates()\n",
    "\n",
    "df_unique"
   ]
  },
  {
   "cell_type": "markdown",
   "id": "cf6d9647-6131-4363-8f5a-96884b9825df",
   "metadata": {},
   "source": [
    "## Finding duplicate rows"
   ]
  },
  {
   "cell_type": "code",
   "execution_count": 7,
   "id": "2a76b137-5d7d-4fa7-8823-465950404107",
   "metadata": {},
   "outputs": [
    {
     "data": {
      "text/plain": [
       "0    False\n",
       "1    False\n",
       "2     True\n",
       "3    False\n",
       "4     True\n",
       "5    False\n",
       "dtype: bool"
      ]
     },
     "execution_count": 7,
     "metadata": {},
     "output_type": "execute_result"
    }
   ],
   "source": [
    "# We can use the same DataFrame as before\n",
    "\n",
    "# To find duplicate rows we can use the .duplicated() method\n",
    "\n",
    "duplicates = df.duplicated()\n",
    "duplicates # This a Series of boolean values, which indicates whether a row is a duplicate or not"
   ]
  },
  {
   "cell_type": "markdown",
   "id": "e505dead-02bf-497d-8cb3-cbd714d2f3ca",
   "metadata": {},
   "source": [
    "## Selecting columns"
   ]
  },
  {
   "cell_type": "code",
   "execution_count": 8,
   "id": "6168d780-652b-4354-8185-6f14ec2f0695",
   "metadata": {},
   "outputs": [
    {
     "data": {
      "text/plain": [
       "0    25\n",
       "1    30\n",
       "2    35\n",
       "Name: Age, dtype: int64"
      ]
     },
     "execution_count": 8,
     "metadata": {},
     "output_type": "execute_result"
    }
   ],
   "source": [
    "# To select an entire column in a DataFrame you can use ['column_name'] with the column name\n",
    "\n",
    "data = {\n",
    "    'Name': ['Alice', 'Bob', 'Charlie'],\n",
    "    'Age': [25, 30, 35],\n",
    "    'City': ['New York', 'Los Angeles', 'Chicago']\n",
    "}\n",
    "df = pd.DataFrame(data)\n",
    "\n",
    "# To select the Age column:\n",
    "age_column = df['Age']\n",
    "age_column # This returns a Series"
   ]
  },
  {
   "cell_type": "code",
   "execution_count": 11,
   "id": "fc0f7170-6e67-43be-8f20-feda6a8168c8",
   "metadata": {},
   "outputs": [
    {
     "data": {
      "text/html": [
       "<div>\n",
       "<style scoped>\n",
       "    .dataframe tbody tr th:only-of-type {\n",
       "        vertical-align: middle;\n",
       "    }\n",
       "\n",
       "    .dataframe tbody tr th {\n",
       "        vertical-align: top;\n",
       "    }\n",
       "\n",
       "    .dataframe thead th {\n",
       "        text-align: right;\n",
       "    }\n",
       "</style>\n",
       "<table border=\"1\" class=\"dataframe\">\n",
       "  <thead>\n",
       "    <tr style=\"text-align: right;\">\n",
       "      <th></th>\n",
       "      <th>Age</th>\n",
       "    </tr>\n",
       "  </thead>\n",
       "  <tbody>\n",
       "    <tr>\n",
       "      <th>0</th>\n",
       "      <td>25</td>\n",
       "    </tr>\n",
       "    <tr>\n",
       "      <th>1</th>\n",
       "      <td>30</td>\n",
       "    </tr>\n",
       "    <tr>\n",
       "      <th>2</th>\n",
       "      <td>35</td>\n",
       "    </tr>\n",
       "  </tbody>\n",
       "</table>\n",
       "</div>"
      ],
      "text/plain": [
       "   Age\n",
       "0   25\n",
       "1   30\n",
       "2   35"
      ]
     },
     "execution_count": 11,
     "metadata": {},
     "output_type": "execute_result"
    }
   ],
   "source": [
    "# You can also keep the column as a DataFrame rather than a Series using double square brackets [['column_name']]\n",
    "\n",
    "# To select the Age column:\n",
    "age_df = df[['Age']]\n",
    "age_df # This returns a DataFrame"
   ]
  },
  {
   "cell_type": "code",
   "execution_count": 12,
   "id": "8e2e3ea2-42c7-4fe4-86f7-8ae476bccb4f",
   "metadata": {},
   "outputs": [
    {
     "data": {
      "text/html": [
       "<div>\n",
       "<style scoped>\n",
       "    .dataframe tbody tr th:only-of-type {\n",
       "        vertical-align: middle;\n",
       "    }\n",
       "\n",
       "    .dataframe tbody tr th {\n",
       "        vertical-align: top;\n",
       "    }\n",
       "\n",
       "    .dataframe thead th {\n",
       "        text-align: right;\n",
       "    }\n",
       "</style>\n",
       "<table border=\"1\" class=\"dataframe\">\n",
       "  <thead>\n",
       "    <tr style=\"text-align: right;\">\n",
       "      <th></th>\n",
       "      <th>Name</th>\n",
       "      <th>Age</th>\n",
       "    </tr>\n",
       "  </thead>\n",
       "  <tbody>\n",
       "    <tr>\n",
       "      <th>0</th>\n",
       "      <td>Alice</td>\n",
       "      <td>25</td>\n",
       "    </tr>\n",
       "    <tr>\n",
       "      <th>1</th>\n",
       "      <td>Bob</td>\n",
       "      <td>30</td>\n",
       "    </tr>\n",
       "    <tr>\n",
       "      <th>2</th>\n",
       "      <td>Charlie</td>\n",
       "      <td>35</td>\n",
       "    </tr>\n",
       "  </tbody>\n",
       "</table>\n",
       "</div>"
      ],
      "text/plain": [
       "      Name  Age\n",
       "0    Alice   25\n",
       "1      Bob   30\n",
       "2  Charlie   35"
      ]
     },
     "execution_count": 12,
     "metadata": {},
     "output_type": "execute_result"
    }
   ],
   "source": [
    "# To select multiple columns you just list them within double brackets\n",
    "\n",
    "# To select the Name and Age column:\n",
    "name_age_df = df[['Name', 'Age']]\n",
    "name_age_df # This returns a DataFrame"
   ]
  },
  {
   "cell_type": "markdown",
   "id": "dfa54684-80fa-473f-8384-f62440b94d78",
   "metadata": {},
   "source": [
    "### What is iloc and loc?"
   ]
  },
  {
   "cell_type": "markdown",
   "id": "46c202ab-2da9-47ac-9a13-9719c3082808",
   "metadata": {},
   "source": [
    "#### iloc"
   ]
  },
  {
   "cell_type": "code",
   "execution_count": 14,
   "id": "88c6f7d4-c474-4cad-ac42-2d0489e9a127",
   "metadata": {},
   "outputs": [
    {
     "data": {
      "text/plain": [
       "Name            Bob\n",
       "Age              30\n",
       "City    Los Angeles\n",
       "Name: 1, dtype: object"
      ]
     },
     "execution_count": 14,
     "metadata": {},
     "output_type": "execute_result"
    }
   ],
   "source": [
    "# iloc is a method of selecting rows and columns by position based indexing using integers\n",
    "# Using the previous DataFrame to showcase this:\n",
    "\n",
    "df.iloc[1] # This prints the 2nd row of the dataframe"
   ]
  },
  {
   "cell_type": "code",
   "execution_count": 16,
   "id": "b3531695-1adf-41aa-a1e1-c3c75f4ad360",
   "metadata": {},
   "outputs": [
    {
     "data": {
      "text/html": [
       "<div>\n",
       "<style scoped>\n",
       "    .dataframe tbody tr th:only-of-type {\n",
       "        vertical-align: middle;\n",
       "    }\n",
       "\n",
       "    .dataframe tbody tr th {\n",
       "        vertical-align: top;\n",
       "    }\n",
       "\n",
       "    .dataframe thead th {\n",
       "        text-align: right;\n",
       "    }\n",
       "</style>\n",
       "<table border=\"1\" class=\"dataframe\">\n",
       "  <thead>\n",
       "    <tr style=\"text-align: right;\">\n",
       "      <th></th>\n",
       "      <th>Name</th>\n",
       "      <th>Age</th>\n",
       "      <th>City</th>\n",
       "    </tr>\n",
       "  </thead>\n",
       "  <tbody>\n",
       "    <tr>\n",
       "      <th>0</th>\n",
       "      <td>Alice</td>\n",
       "      <td>25</td>\n",
       "      <td>New York</td>\n",
       "    </tr>\n",
       "    <tr>\n",
       "      <th>2</th>\n",
       "      <td>Charlie</td>\n",
       "      <td>35</td>\n",
       "      <td>Chicago</td>\n",
       "    </tr>\n",
       "  </tbody>\n",
       "</table>\n",
       "</div>"
      ],
      "text/plain": [
       "      Name  Age      City\n",
       "0    Alice   25  New York\n",
       "2  Charlie   35   Chicago"
      ]
     },
     "execution_count": 16,
     "metadata": {},
     "output_type": "execute_result"
    }
   ],
   "source": [
    "# You can also select multiple rows using iloc:\n",
    "df.iloc[[0, 2]] # This returns the first and third rows of the DataFrame"
   ]
  },
  {
   "cell_type": "code",
   "execution_count": 18,
   "id": "69cccb44-a7c3-4f6a-9ef2-b7b917f74f5b",
   "metadata": {},
   "outputs": [
    {
     "data": {
      "text/plain": [
       "0    25\n",
       "1    30\n",
       "2    35\n",
       "Name: Age, dtype: int64"
      ]
     },
     "execution_count": 18,
     "metadata": {},
     "output_type": "execute_result"
    }
   ],
   "source": [
    "# To select a column:\n",
    "df.iloc[:, 1] # This selects the second column (Age in this case)"
   ]
  },
  {
   "cell_type": "code",
   "execution_count": 19,
   "id": "5b4989fc-3bf7-47dc-ab6c-a337809133f3",
   "metadata": {},
   "outputs": [
    {
     "data": {
      "text/html": [
       "<div>\n",
       "<style scoped>\n",
       "    .dataframe tbody tr th:only-of-type {\n",
       "        vertical-align: middle;\n",
       "    }\n",
       "\n",
       "    .dataframe tbody tr th {\n",
       "        vertical-align: top;\n",
       "    }\n",
       "\n",
       "    .dataframe thead th {\n",
       "        text-align: right;\n",
       "    }\n",
       "</style>\n",
       "<table border=\"1\" class=\"dataframe\">\n",
       "  <thead>\n",
       "    <tr style=\"text-align: right;\">\n",
       "      <th></th>\n",
       "      <th>Name</th>\n",
       "      <th>City</th>\n",
       "    </tr>\n",
       "  </thead>\n",
       "  <tbody>\n",
       "    <tr>\n",
       "      <th>0</th>\n",
       "      <td>Alice</td>\n",
       "      <td>New York</td>\n",
       "    </tr>\n",
       "    <tr>\n",
       "      <th>2</th>\n",
       "      <td>Charlie</td>\n",
       "      <td>Chicago</td>\n",
       "    </tr>\n",
       "  </tbody>\n",
       "</table>\n",
       "</div>"
      ],
      "text/plain": [
       "      Name      City\n",
       "0    Alice  New York\n",
       "2  Charlie   Chicago"
      ]
     },
     "execution_count": 19,
     "metadata": {},
     "output_type": "execute_result"
    }
   ],
   "source": [
    "# Finally, you can also select multiple rows and columns\n",
    "df.iloc[[0, 2], [0, 2]] # This selects the first and third row, with the first and third column"
   ]
  },
  {
   "cell_type": "markdown",
   "id": "4188968f-d251-481a-9da4-28cb96d5b7b7",
   "metadata": {},
   "source": [
    "#### loc"
   ]
  },
  {
   "cell_type": "code",
   "execution_count": 22,
   "id": "8b75cb37-f360-4e3c-a0af-78c896f5fe4f",
   "metadata": {},
   "outputs": [
    {
     "data": {
      "text/plain": [
       "Name            Bob\n",
       "Age              30\n",
       "City    Los Angeles\n",
       "Name: B, dtype: object"
      ]
     },
     "execution_count": 22,
     "metadata": {},
     "output_type": "execute_result"
    }
   ],
   "source": [
    "# loc is used for label-based indexing (column names or index labels)\n",
    "df = pd.DataFrame(data, index=['A', 'B', 'C']) # Here we give index labels to the DataFrame\n",
    "\n",
    "df.loc['B'] # Here we select the row with index 'B'"
   ]
  },
  {
   "cell_type": "code",
   "execution_count": 23,
   "id": "208b54f2-b049-408c-bb13-8bd3aa15f02d",
   "metadata": {},
   "outputs": [
    {
     "data": {
      "text/html": [
       "<div>\n",
       "<style scoped>\n",
       "    .dataframe tbody tr th:only-of-type {\n",
       "        vertical-align: middle;\n",
       "    }\n",
       "\n",
       "    .dataframe tbody tr th {\n",
       "        vertical-align: top;\n",
       "    }\n",
       "\n",
       "    .dataframe thead th {\n",
       "        text-align: right;\n",
       "    }\n",
       "</style>\n",
       "<table border=\"1\" class=\"dataframe\">\n",
       "  <thead>\n",
       "    <tr style=\"text-align: right;\">\n",
       "      <th></th>\n",
       "      <th>Name</th>\n",
       "      <th>Age</th>\n",
       "      <th>City</th>\n",
       "    </tr>\n",
       "  </thead>\n",
       "  <tbody>\n",
       "    <tr>\n",
       "      <th>A</th>\n",
       "      <td>Alice</td>\n",
       "      <td>25</td>\n",
       "      <td>New York</td>\n",
       "    </tr>\n",
       "    <tr>\n",
       "      <th>C</th>\n",
       "      <td>Charlie</td>\n",
       "      <td>35</td>\n",
       "      <td>Chicago</td>\n",
       "    </tr>\n",
       "  </tbody>\n",
       "</table>\n",
       "</div>"
      ],
      "text/plain": [
       "      Name  Age      City\n",
       "A    Alice   25  New York\n",
       "C  Charlie   35   Chicago"
      ]
     },
     "execution_count": 23,
     "metadata": {},
     "output_type": "execute_result"
    }
   ],
   "source": [
    "# Similar to iloc, you can select multiple rows using double square brackets\n",
    "\n",
    "df.loc[['A', 'C']] # Selects rows with index 'A' and 'C'"
   ]
  },
  {
   "cell_type": "code",
   "execution_count": 24,
   "id": "bb97e350-e510-4863-9ff1-955a90635b5f",
   "metadata": {},
   "outputs": [
    {
     "data": {
      "text/plain": [
       "A    25\n",
       "B    30\n",
       "C    35\n",
       "Name: Age, dtype: int64"
      ]
     },
     "execution_count": 24,
     "metadata": {},
     "output_type": "execute_result"
    }
   ],
   "source": [
    "# To select columns we use the same technique as iloc:\n",
    "df.loc[:, 'Age'] # Returns the 'Age' column\n",
    "\n",
    "# Selecting individual rows and columns works the same way as iloc but with row index labels and column names instead of positions"
   ]
  },
  {
   "cell_type": "code",
   "execution_count": 27,
   "id": "b1a676fa-7049-49fd-94eb-a6329563740e",
   "metadata": {},
   "outputs": [
    {
     "data": {
      "text/html": [
       "<div>\n",
       "<style scoped>\n",
       "    .dataframe tbody tr th:only-of-type {\n",
       "        vertical-align: middle;\n",
       "    }\n",
       "\n",
       "    .dataframe tbody tr th {\n",
       "        vertical-align: top;\n",
       "    }\n",
       "\n",
       "    .dataframe thead th {\n",
       "        text-align: right;\n",
       "    }\n",
       "</style>\n",
       "<table border=\"1\" class=\"dataframe\">\n",
       "  <thead>\n",
       "    <tr style=\"text-align: right;\">\n",
       "      <th></th>\n",
       "      <th>Name</th>\n",
       "      <th>Age</th>\n",
       "      <th>City</th>\n",
       "    </tr>\n",
       "  </thead>\n",
       "  <tbody>\n",
       "    <tr>\n",
       "      <th>B</th>\n",
       "      <td>Bob</td>\n",
       "      <td>30</td>\n",
       "      <td>Los Angeles</td>\n",
       "    </tr>\n",
       "    <tr>\n",
       "      <th>C</th>\n",
       "      <td>Charlie</td>\n",
       "      <td>35</td>\n",
       "      <td>Chicago</td>\n",
       "    </tr>\n",
       "  </tbody>\n",
       "</table>\n",
       "</div>"
      ],
      "text/plain": [
       "      Name  Age         City\n",
       "B      Bob   30  Los Angeles\n",
       "C  Charlie   35      Chicago"
      ]
     },
     "execution_count": 27,
     "metadata": {},
     "output_type": "execute_result"
    }
   ],
   "source": [
    "# You can also utilise boolean conditions with loc, unlike iloc\n",
    "\n",
    "df.loc[df['Age'] > 25] # This selects the rows with Age > 25"
   ]
  },
  {
   "cell_type": "markdown",
   "id": "0b451a2a-6912-4760-84a1-bfabfb638254",
   "metadata": {},
   "source": [
    "## Filtering"
   ]
  },
  {
   "cell_type": "code",
   "execution_count": 29,
   "id": "a7615d79-b967-488f-b370-f557427849bb",
   "metadata": {},
   "outputs": [
    {
     "data": {
      "text/html": [
       "<div>\n",
       "<style scoped>\n",
       "    .dataframe tbody tr th:only-of-type {\n",
       "        vertical-align: middle;\n",
       "    }\n",
       "\n",
       "    .dataframe tbody tr th {\n",
       "        vertical-align: top;\n",
       "    }\n",
       "\n",
       "    .dataframe thead th {\n",
       "        text-align: right;\n",
       "    }\n",
       "</style>\n",
       "<table border=\"1\" class=\"dataframe\">\n",
       "  <thead>\n",
       "    <tr style=\"text-align: right;\">\n",
       "      <th></th>\n",
       "      <th>Name</th>\n",
       "      <th>Age</th>\n",
       "      <th>City</th>\n",
       "    </tr>\n",
       "  </thead>\n",
       "  <tbody>\n",
       "    <tr>\n",
       "      <th>2</th>\n",
       "      <td>Charlie</td>\n",
       "      <td>35</td>\n",
       "      <td>Chicago</td>\n",
       "    </tr>\n",
       "  </tbody>\n",
       "</table>\n",
       "</div>"
      ],
      "text/plain": [
       "      Name  Age     City\n",
       "2  Charlie   35  Chicago"
      ]
     },
     "execution_count": 29,
     "metadata": {},
     "output_type": "execute_result"
    }
   ],
   "source": [
    "df = pd.DataFrame(data)\n",
    "\n",
    "# To filter on a single column based on a condition we can:\n",
    "df_filtered = df[df['Age'] > 30] # This selects rows where Age > 30\n",
    "df_filtered"
   ]
  },
  {
   "cell_type": "code",
   "execution_count": 31,
   "id": "aab72705-f419-4645-930e-e39d8c6e9621",
   "metadata": {},
   "outputs": [
    {
     "data": {
      "text/html": [
       "<div>\n",
       "<style scoped>\n",
       "    .dataframe tbody tr th:only-of-type {\n",
       "        vertical-align: middle;\n",
       "    }\n",
       "\n",
       "    .dataframe tbody tr th {\n",
       "        vertical-align: top;\n",
       "    }\n",
       "\n",
       "    .dataframe thead th {\n",
       "        text-align: right;\n",
       "    }\n",
       "</style>\n",
       "<table border=\"1\" class=\"dataframe\">\n",
       "  <thead>\n",
       "    <tr style=\"text-align: right;\">\n",
       "      <th></th>\n",
       "      <th>Name</th>\n",
       "      <th>Age</th>\n",
       "      <th>City</th>\n",
       "    </tr>\n",
       "  </thead>\n",
       "  <tbody>\n",
       "    <tr>\n",
       "      <th>2</th>\n",
       "      <td>Charlie</td>\n",
       "      <td>35</td>\n",
       "      <td>Chicago</td>\n",
       "    </tr>\n",
       "  </tbody>\n",
       "</table>\n",
       "</div>"
      ],
      "text/plain": [
       "      Name  Age     City\n",
       "2  Charlie   35  Chicago"
      ]
     },
     "execution_count": 31,
     "metadata": {},
     "output_type": "execute_result"
    }
   ],
   "source": [
    "# You can also filter based on multiple conditions\n",
    "df_filtered = df[(df['Age'] > 30) & (df['City'] == 'Chicago')] # This selects rows where Age > 30 and City = Chicago\n",
    "df_filtered"
   ]
  },
  {
   "cell_type": "code",
   "execution_count": 32,
   "id": "4de009f8-a9b0-4c55-a7a7-133a2c96d8ff",
   "metadata": {},
   "outputs": [
    {
     "data": {
      "text/html": [
       "<div>\n",
       "<style scoped>\n",
       "    .dataframe tbody tr th:only-of-type {\n",
       "        vertical-align: middle;\n",
       "    }\n",
       "\n",
       "    .dataframe tbody tr th {\n",
       "        vertical-align: top;\n",
       "    }\n",
       "\n",
       "    .dataframe thead th {\n",
       "        text-align: right;\n",
       "    }\n",
       "</style>\n",
       "<table border=\"1\" class=\"dataframe\">\n",
       "  <thead>\n",
       "    <tr style=\"text-align: right;\">\n",
       "      <th></th>\n",
       "      <th>Name</th>\n",
       "      <th>Age</th>\n",
       "      <th>City</th>\n",
       "    </tr>\n",
       "  </thead>\n",
       "  <tbody>\n",
       "    <tr>\n",
       "      <th>1</th>\n",
       "      <td>Bob</td>\n",
       "      <td>30</td>\n",
       "      <td>Los Angeles</td>\n",
       "    </tr>\n",
       "    <tr>\n",
       "      <th>2</th>\n",
       "      <td>Charlie</td>\n",
       "      <td>35</td>\n",
       "      <td>Chicago</td>\n",
       "    </tr>\n",
       "  </tbody>\n",
       "</table>\n",
       "</div>"
      ],
      "text/plain": [
       "      Name  Age         City\n",
       "1      Bob   30  Los Angeles\n",
       "2  Charlie   35      Chicago"
      ]
     },
     "execution_count": 32,
     "metadata": {},
     "output_type": "execute_result"
    }
   ],
   "source": [
    "# You can also use the OR logic condition using '|'\n",
    "df_filtered = df[(df['Age'] > 30) | (df['City'] == 'Los Angeles')] # This selects rows where Age > 30 OR City = Los Angeles\n",
    "df_filtered"
   ]
  },
  {
   "cell_type": "markdown",
   "id": "e03e8fbf-f97d-4b3a-aeb9-5ae0e813bba9",
   "metadata": {},
   "source": [
    "## Sorting and Ranking data"
   ]
  },
  {
   "cell_type": "markdown",
   "id": "80e7b955-2121-482a-bf1e-69092629a887",
   "metadata": {},
   "source": [
    "### Sorting"
   ]
  },
  {
   "cell_type": "code",
   "execution_count": 33,
   "id": "2ee91b64-5c40-4e39-97e0-fbd67a2232b1",
   "metadata": {},
   "outputs": [],
   "source": [
    "# We will create a new DataFrame\n",
    "data = {\n",
    "    'Name': ['Alice', 'Bob', 'Charlie', 'David'],\n",
    "    'Age': [35, 25, 40, 30],\n",
    "    'Salary': [70000, 50000, 120000, 90000]\n",
    "}\n",
    "df = pd.DataFrame(data)"
   ]
  },
  {
   "cell_type": "code",
   "execution_count": 35,
   "id": "6fa5791e-7a09-476c-9af8-bd6a8dd6fb38",
   "metadata": {},
   "outputs": [
    {
     "data": {
      "text/html": [
       "<div>\n",
       "<style scoped>\n",
       "    .dataframe tbody tr th:only-of-type {\n",
       "        vertical-align: middle;\n",
       "    }\n",
       "\n",
       "    .dataframe tbody tr th {\n",
       "        vertical-align: top;\n",
       "    }\n",
       "\n",
       "    .dataframe thead th {\n",
       "        text-align: right;\n",
       "    }\n",
       "</style>\n",
       "<table border=\"1\" class=\"dataframe\">\n",
       "  <thead>\n",
       "    <tr style=\"text-align: right;\">\n",
       "      <th></th>\n",
       "      <th>Name</th>\n",
       "      <th>Age</th>\n",
       "      <th>Salary</th>\n",
       "    </tr>\n",
       "  </thead>\n",
       "  <tbody>\n",
       "    <tr>\n",
       "      <th>2</th>\n",
       "      <td>Charlie</td>\n",
       "      <td>40</td>\n",
       "      <td>120000</td>\n",
       "    </tr>\n",
       "    <tr>\n",
       "      <th>0</th>\n",
       "      <td>Alice</td>\n",
       "      <td>35</td>\n",
       "      <td>70000</td>\n",
       "    </tr>\n",
       "    <tr>\n",
       "      <th>3</th>\n",
       "      <td>David</td>\n",
       "      <td>30</td>\n",
       "      <td>90000</td>\n",
       "    </tr>\n",
       "    <tr>\n",
       "      <th>1</th>\n",
       "      <td>Bob</td>\n",
       "      <td>25</td>\n",
       "      <td>50000</td>\n",
       "    </tr>\n",
       "  </tbody>\n",
       "</table>\n",
       "</div>"
      ],
      "text/plain": [
       "      Name  Age  Salary\n",
       "2  Charlie   40  120000\n",
       "0    Alice   35   70000\n",
       "3    David   30   90000\n",
       "1      Bob   25   50000"
      ]
     },
     "execution_count": 35,
     "metadata": {},
     "output_type": "execute_result"
    }
   ],
   "source": [
    "# To sort by Age (in descending order)\n",
    "df_sorted = df.sort_values(by='Age', ascending = False)\n",
    "df_sorted"
   ]
  },
  {
   "cell_type": "code",
   "execution_count": 37,
   "id": "75d6f9a7-68ba-43ee-9dd6-25f9f348841a",
   "metadata": {},
   "outputs": [
    {
     "data": {
      "text/html": [
       "<div>\n",
       "<style scoped>\n",
       "    .dataframe tbody tr th:only-of-type {\n",
       "        vertical-align: middle;\n",
       "    }\n",
       "\n",
       "    .dataframe tbody tr th {\n",
       "        vertical-align: top;\n",
       "    }\n",
       "\n",
       "    .dataframe thead th {\n",
       "        text-align: right;\n",
       "    }\n",
       "</style>\n",
       "<table border=\"1\" class=\"dataframe\">\n",
       "  <thead>\n",
       "    <tr style=\"text-align: right;\">\n",
       "      <th></th>\n",
       "      <th>Name</th>\n",
       "      <th>Age</th>\n",
       "      <th>Salary</th>\n",
       "    </tr>\n",
       "  </thead>\n",
       "  <tbody>\n",
       "    <tr>\n",
       "      <th>1</th>\n",
       "      <td>Bob</td>\n",
       "      <td>25</td>\n",
       "      <td>50000</td>\n",
       "    </tr>\n",
       "    <tr>\n",
       "      <th>3</th>\n",
       "      <td>David</td>\n",
       "      <td>30</td>\n",
       "      <td>90000</td>\n",
       "    </tr>\n",
       "    <tr>\n",
       "      <th>0</th>\n",
       "      <td>Alice</td>\n",
       "      <td>35</td>\n",
       "      <td>70000</td>\n",
       "    </tr>\n",
       "    <tr>\n",
       "      <th>2</th>\n",
       "      <td>Charlie</td>\n",
       "      <td>40</td>\n",
       "      <td>120000</td>\n",
       "    </tr>\n",
       "  </tbody>\n",
       "</table>\n",
       "</div>"
      ],
      "text/plain": [
       "      Name  Age  Salary\n",
       "1      Bob   25   50000\n",
       "3    David   30   90000\n",
       "0    Alice   35   70000\n",
       "2  Charlie   40  120000"
      ]
     },
     "execution_count": 37,
     "metadata": {},
     "output_type": "execute_result"
    }
   ],
   "source": [
    "# You can also sort by multiple columns:\n",
    "df_sorted = df.sort_values(by=['Age', 'Salary']) # Sorts on Age and Salary\n",
    "df_sorted"
   ]
  },
  {
   "cell_type": "code",
   "execution_count": 40,
   "id": "7597c0e7-642a-4c8b-8f91-0fccfe2883b2",
   "metadata": {},
   "outputs": [
    {
     "data": {
      "text/html": [
       "<div>\n",
       "<style scoped>\n",
       "    .dataframe tbody tr th:only-of-type {\n",
       "        vertical-align: middle;\n",
       "    }\n",
       "\n",
       "    .dataframe tbody tr th {\n",
       "        vertical-align: top;\n",
       "    }\n",
       "\n",
       "    .dataframe thead th {\n",
       "        text-align: right;\n",
       "    }\n",
       "</style>\n",
       "<table border=\"1\" class=\"dataframe\">\n",
       "  <thead>\n",
       "    <tr style=\"text-align: right;\">\n",
       "      <th></th>\n",
       "      <th>Name</th>\n",
       "      <th>Age</th>\n",
       "      <th>Salary</th>\n",
       "    </tr>\n",
       "  </thead>\n",
       "  <tbody>\n",
       "    <tr>\n",
       "      <th>3</th>\n",
       "      <td>David</td>\n",
       "      <td>30</td>\n",
       "      <td>90000</td>\n",
       "    </tr>\n",
       "    <tr>\n",
       "      <th>2</th>\n",
       "      <td>Charlie</td>\n",
       "      <td>40</td>\n",
       "      <td>120000</td>\n",
       "    </tr>\n",
       "    <tr>\n",
       "      <th>1</th>\n",
       "      <td>Bob</td>\n",
       "      <td>25</td>\n",
       "      <td>50000</td>\n",
       "    </tr>\n",
       "    <tr>\n",
       "      <th>0</th>\n",
       "      <td>Alice</td>\n",
       "      <td>35</td>\n",
       "      <td>70000</td>\n",
       "    </tr>\n",
       "  </tbody>\n",
       "</table>\n",
       "</div>"
      ],
      "text/plain": [
       "      Name  Age  Salary\n",
       "3    David   30   90000\n",
       "2  Charlie   40  120000\n",
       "1      Bob   25   50000\n",
       "0    Alice   35   70000"
      ]
     },
     "execution_count": 40,
     "metadata": {},
     "output_type": "execute_result"
    }
   ],
   "source": [
    "# You can also sort by index using df.sort_index()\n",
    "df.sort_index(ascending = False) # Here we sort by index in descending order"
   ]
  },
  {
   "cell_type": "markdown",
   "id": "9143110a-8425-42fb-a504-a521ee271f08",
   "metadata": {},
   "source": [
    "### Ranking\n",
    "\n",
    "The `.rank()` method will assign a rank position to each value in a column"
   ]
  },
  {
   "cell_type": "code",
   "execution_count": 45,
   "id": "9b4072a9-bf4f-44b0-9162-4116ca677420",
   "metadata": {},
   "outputs": [
    {
     "data": {
      "text/html": [
       "<div>\n",
       "<style scoped>\n",
       "    .dataframe tbody tr th:only-of-type {\n",
       "        vertical-align: middle;\n",
       "    }\n",
       "\n",
       "    .dataframe tbody tr th {\n",
       "        vertical-align: top;\n",
       "    }\n",
       "\n",
       "    .dataframe thead th {\n",
       "        text-align: right;\n",
       "    }\n",
       "</style>\n",
       "<table border=\"1\" class=\"dataframe\">\n",
       "  <thead>\n",
       "    <tr style=\"text-align: right;\">\n",
       "      <th></th>\n",
       "      <th>Name</th>\n",
       "      <th>Age</th>\n",
       "      <th>Salary</th>\n",
       "      <th>Rank</th>\n",
       "    </tr>\n",
       "  </thead>\n",
       "  <tbody>\n",
       "    <tr>\n",
       "      <th>0</th>\n",
       "      <td>Alice</td>\n",
       "      <td>35</td>\n",
       "      <td>70000</td>\n",
       "      <td>3.0</td>\n",
       "    </tr>\n",
       "    <tr>\n",
       "      <th>1</th>\n",
       "      <td>Bob</td>\n",
       "      <td>25</td>\n",
       "      <td>50000</td>\n",
       "      <td>4.0</td>\n",
       "    </tr>\n",
       "    <tr>\n",
       "      <th>2</th>\n",
       "      <td>Charlie</td>\n",
       "      <td>40</td>\n",
       "      <td>120000</td>\n",
       "      <td>1.0</td>\n",
       "    </tr>\n",
       "    <tr>\n",
       "      <th>3</th>\n",
       "      <td>David</td>\n",
       "      <td>30</td>\n",
       "      <td>90000</td>\n",
       "      <td>2.0</td>\n",
       "    </tr>\n",
       "  </tbody>\n",
       "</table>\n",
       "</div>"
      ],
      "text/plain": [
       "      Name  Age  Salary  Rank\n",
       "0    Alice   35   70000   3.0\n",
       "1      Bob   25   50000   4.0\n",
       "2  Charlie   40  120000   1.0\n",
       "3    David   30   90000   2.0"
      ]
     },
     "execution_count": 45,
     "metadata": {},
     "output_type": "execute_result"
    }
   ],
   "source": [
    "df['Rank'] = df['Salary'].rank(ascending = False) # Creates a column of ranks based on Salary\n",
    "df # The lowest salary gets rank 4 and the highest gets rank 1 because we use \"ascending = False\""
   ]
  },
  {
   "cell_type": "code",
   "execution_count": 47,
   "id": "a3794bb9-01dc-4822-9efd-57896f630137",
   "metadata": {},
   "outputs": [],
   "source": [
    "# Can also use the method parameter in .rank() to control how ties are handles\n",
    "df['Rank_Avg'] = df['Salary'].rank(method='average') # If multiple values are tied, then they get average rank\n",
    "\n",
    "df['Rank_Max'] = df['Salary'].rank(method='max') # Tied values will get the highest rank allocated"
   ]
  },
  {
   "cell_type": "markdown",
   "id": "3a8efea6-4a82-4c1d-b190-4dd8066adccd",
   "metadata": {},
   "source": [
    "## The .describe() method\n",
    "\n",
    "The `.describe()` method is used to provide a statistical summary of the data in the DataFrame."
   ]
  },
  {
   "cell_type": "code",
   "execution_count": 50,
   "id": "27c7d512-a19d-4816-a496-fa6b87557d1a",
   "metadata": {},
   "outputs": [
    {
     "data": {
      "text/html": [
       "<div>\n",
       "<style scoped>\n",
       "    .dataframe tbody tr th:only-of-type {\n",
       "        vertical-align: middle;\n",
       "    }\n",
       "\n",
       "    .dataframe tbody tr th {\n",
       "        vertical-align: top;\n",
       "    }\n",
       "\n",
       "    .dataframe thead th {\n",
       "        text-align: right;\n",
       "    }\n",
       "</style>\n",
       "<table border=\"1\" class=\"dataframe\">\n",
       "  <thead>\n",
       "    <tr style=\"text-align: right;\">\n",
       "      <th></th>\n",
       "      <th>Age</th>\n",
       "      <th>Salary</th>\n",
       "    </tr>\n",
       "  </thead>\n",
       "  <tbody>\n",
       "    <tr>\n",
       "      <th>count</th>\n",
       "      <td>4.000000</td>\n",
       "      <td>4.000000</td>\n",
       "    </tr>\n",
       "    <tr>\n",
       "      <th>mean</th>\n",
       "      <td>32.500000</td>\n",
       "      <td>82500.000000</td>\n",
       "    </tr>\n",
       "    <tr>\n",
       "      <th>std</th>\n",
       "      <td>6.454972</td>\n",
       "      <td>29860.788112</td>\n",
       "    </tr>\n",
       "    <tr>\n",
       "      <th>min</th>\n",
       "      <td>25.000000</td>\n",
       "      <td>50000.000000</td>\n",
       "    </tr>\n",
       "    <tr>\n",
       "      <th>25%</th>\n",
       "      <td>28.750000</td>\n",
       "      <td>65000.000000</td>\n",
       "    </tr>\n",
       "    <tr>\n",
       "      <th>50%</th>\n",
       "      <td>32.500000</td>\n",
       "      <td>80000.000000</td>\n",
       "    </tr>\n",
       "    <tr>\n",
       "      <th>75%</th>\n",
       "      <td>36.250000</td>\n",
       "      <td>97500.000000</td>\n",
       "    </tr>\n",
       "    <tr>\n",
       "      <th>max</th>\n",
       "      <td>40.000000</td>\n",
       "      <td>120000.000000</td>\n",
       "    </tr>\n",
       "  </tbody>\n",
       "</table>\n",
       "</div>"
      ],
      "text/plain": [
       "             Age         Salary\n",
       "count   4.000000       4.000000\n",
       "mean   32.500000   82500.000000\n",
       "std     6.454972   29860.788112\n",
       "min    25.000000   50000.000000\n",
       "25%    28.750000   65000.000000\n",
       "50%    32.500000   80000.000000\n",
       "75%    36.250000   97500.000000\n",
       "max    40.000000  120000.000000"
      ]
     },
     "execution_count": 50,
     "metadata": {},
     "output_type": "execute_result"
    }
   ],
   "source": [
    "# Using the same data as the previous section:\n",
    "df = pd.DataFrame(data)\n",
    "df.describe() # Shows a variety of summary statistics about age and salary"
   ]
  },
  {
   "cell_type": "code",
   "execution_count": 61,
   "id": "15e6fbce-dbd5-4590-b8e7-261f7747e9a0",
   "metadata": {},
   "outputs": [
    {
     "data": {
      "text/plain": [
       "Age       4.166667e+01\n",
       "Salary    8.916667e+08\n",
       "dtype: float64"
      ]
     },
     "execution_count": 61,
     "metadata": {},
     "output_type": "execute_result"
    }
   ],
   "source": [
    "# Other summary statistics that are not in .describe() are:\n",
    "\n",
    "df.median(numeric_only=True) # The median\n",
    "\n",
    "df.std(numeric_only=True) # Standard deviation\n",
    "\n",
    "df.var(numeric_only=True) # Variance"
   ]
  },
  {
   "cell_type": "markdown",
   "id": "bd591538-3d1b-44b7-8d34-81b0d7741515",
   "metadata": {},
   "source": [
    "## Hierarchical Indexes\n",
    "\n",
    "Hierarchical indexing is when you have more than one level of indexes for rows in a DataFrame. A DataFrame with hierarchical indexing is called a MultiIndex DataFrame."
   ]
  },
  {
   "cell_type": "code",
   "execution_count": 62,
   "id": "ef770b84-f414-46a4-8c51-123c99654450",
   "metadata": {},
   "outputs": [],
   "source": [
    "# To create a MultiIndex DataFrame we start by creating lists of indexes\n",
    "index_lists = [\n",
    "    ['USA', 'USA', 'USA', 'Canada', 'Canada', 'Canada'],\n",
    "    ['New York', 'Chicago', 'Los Angeles', 'Toronto', 'Vancouver', 'Montreal']\n",
    "]\n",
    "# Here we have Cities in USA and Canada, with USA appearing every time for a US city"
   ]
  },
  {
   "cell_type": "code",
   "execution_count": 64,
   "id": "46331a81-6fb3-4175-abda-dd232c44d3df",
   "metadata": {},
   "outputs": [],
   "source": [
    "# To create the MultiIndex DataFrame we use:\n",
    "index = pd.MultiIndex.from_tuples(list(zip(*index_lists)), names=['Country', 'City'])"
   ]
  },
  {
   "cell_type": "code",
   "execution_count": 66,
   "id": "b23fa44e-0475-4d05-a68b-7eb7c5ba484b",
   "metadata": {},
   "outputs": [
    {
     "data": {
      "text/html": [
       "<div>\n",
       "<style scoped>\n",
       "    .dataframe tbody tr th:only-of-type {\n",
       "        vertical-align: middle;\n",
       "    }\n",
       "\n",
       "    .dataframe tbody tr th {\n",
       "        vertical-align: top;\n",
       "    }\n",
       "\n",
       "    .dataframe thead th {\n",
       "        text-align: right;\n",
       "    }\n",
       "</style>\n",
       "<table border=\"1\" class=\"dataframe\">\n",
       "  <thead>\n",
       "    <tr style=\"text-align: right;\">\n",
       "      <th></th>\n",
       "      <th></th>\n",
       "      <th>Population</th>\n",
       "      <th>GDP</th>\n",
       "    </tr>\n",
       "    <tr>\n",
       "      <th>Country</th>\n",
       "      <th>City</th>\n",
       "      <th></th>\n",
       "      <th></th>\n",
       "    </tr>\n",
       "  </thead>\n",
       "  <tbody>\n",
       "    <tr>\n",
       "      <th rowspan=\"3\" valign=\"top\">USA</th>\n",
       "      <th>New York</th>\n",
       "      <td>8500000</td>\n",
       "      <td>1.7</td>\n",
       "    </tr>\n",
       "    <tr>\n",
       "      <th>Chicago</th>\n",
       "      <td>2700000</td>\n",
       "      <td>0.7</td>\n",
       "    </tr>\n",
       "    <tr>\n",
       "      <th>Los Angeles</th>\n",
       "      <td>4000000</td>\n",
       "      <td>1.1</td>\n",
       "    </tr>\n",
       "    <tr>\n",
       "      <th rowspan=\"3\" valign=\"top\">Canada</th>\n",
       "      <th>Toronto</th>\n",
       "      <td>3000000</td>\n",
       "      <td>0.5</td>\n",
       "    </tr>\n",
       "    <tr>\n",
       "      <th>Vancouver</th>\n",
       "      <td>2500000</td>\n",
       "      <td>0.4</td>\n",
       "    </tr>\n",
       "    <tr>\n",
       "      <th>Montreal</th>\n",
       "      <td>1800000</td>\n",
       "      <td>0.3</td>\n",
       "    </tr>\n",
       "  </tbody>\n",
       "</table>\n",
       "</div>"
      ],
      "text/plain": [
       "                     Population  GDP\n",
       "Country City                        \n",
       "USA     New York        8500000  1.7\n",
       "        Chicago         2700000  0.7\n",
       "        Los Angeles     4000000  1.1\n",
       "Canada  Toronto         3000000  0.5\n",
       "        Vancouver       2500000  0.4\n",
       "        Montreal        1800000  0.3"
      ]
     },
     "execution_count": 66,
     "metadata": {},
     "output_type": "execute_result"
    }
   ],
   "source": [
    "data = {\n",
    "    'Population': [8500000, 2700000, 4000000, 3000000, 2500000, 1800000],\n",
    "    'GDP': [1.7, 0.7, 1.1, 0.5, 0.4, 0.3]\n",
    "}\n",
    "\n",
    "df = pd.DataFrame(data, index=index)\n",
    "df"
   ]
  },
  {
   "cell_type": "code",
   "execution_count": null,
   "id": "8e4a0294-b976-4a48-b157-650aa27c1f44",
   "metadata": {},
   "outputs": [],
   "source": []
  }
 ],
 "metadata": {
  "kernelspec": {
   "display_name": "Python 3 (ipykernel)",
   "language": "python",
   "name": "python3"
  },
  "language_info": {
   "codemirror_mode": {
    "name": "ipython",
    "version": 3
   },
   "file_extension": ".py",
   "mimetype": "text/x-python",
   "name": "python",
   "nbconvert_exporter": "python",
   "pygments_lexer": "ipython3",
   "version": "3.12.6"
  }
 },
 "nbformat": 4,
 "nbformat_minor": 5
}
