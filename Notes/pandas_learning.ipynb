{
 "cells": [
  {
   "cell_type": "markdown",
   "id": "02bd56db-b63b-4982-8ffc-826426abf0b0",
   "metadata": {},
   "source": [
    "# Introduction to Pandas\n",
    "\n",
    "Pandas is a high-level data manipulation package which was built on top of Numpy. The key structures within pandas include Series and Dataframes"
   ]
  },
  {
   "cell_type": "markdown",
   "id": "de57f167-c276-43f1-8c55-0e10647fe08a",
   "metadata": {},
   "source": [
    "## Series\n",
    "\n",
    "A Series is a one-dimensional array with axis labels (an index)"
   ]
  },
  {
   "cell_type": "code",
   "execution_count": 3,
   "id": "92fe1df5-0d24-4fd2-8d10-f481fc48f119",
   "metadata": {},
   "outputs": [],
   "source": [
    "# Importing libraries and packages\n",
    "import numpy as np\n",
    "import pandas as pd\n",
    "from pandas import Series, DataFrame"
   ]
  },
  {
   "cell_type": "code",
   "execution_count": 5,
   "id": "37dc9317-46d2-4e19-a756-63d2e0eda2eb",
   "metadata": {},
   "outputs": [
    {
     "data": {
      "text/plain": [
       "0    10\n",
       "1    20\n",
       "2    30\n",
       "3    40\n",
       "4    50\n",
       "dtype: int64"
      ]
     },
     "execution_count": 5,
     "metadata": {},
     "output_type": "execute_result"
    }
   ],
   "source": [
    "# Creating a Series from a list\n",
    "x = pd.Series([10,20,30,40,50])\n",
    "x"
   ]
  },
  {
   "cell_type": "code",
   "execution_count": 6,
   "id": "2cb2940a-9eda-47a8-8dfe-547396446ae4",
   "metadata": {},
   "outputs": [
    {
     "data": {
      "text/plain": [
       "RangeIndex(start=0, stop=5, step=1)"
      ]
     },
     "execution_count": 6,
     "metadata": {},
     "output_type": "execute_result"
    }
   ],
   "source": [
    "# We can access different components seperately:\n",
    "\n",
    "# Accessing the index\n",
    "x.index"
   ]
  },
  {
   "cell_type": "code",
   "execution_count": 7,
   "id": "66cf5f19-31a0-4e43-91f7-5a0b9eea462e",
   "metadata": {},
   "outputs": [
    {
     "data": {
      "text/plain": [
       "array([10, 20, 30, 40, 50])"
      ]
     },
     "execution_count": 7,
     "metadata": {},
     "output_type": "execute_result"
    }
   ],
   "source": [
    "# Accessing values\n",
    "x.values"
   ]
  },
  {
   "cell_type": "code",
   "execution_count": 9,
   "id": "a3d0272e-a53a-466e-99cd-200edc603b02",
   "metadata": {},
   "outputs": [
    {
     "data": {
      "text/plain": [
       "dtype('int64')"
      ]
     },
     "execution_count": 9,
     "metadata": {},
     "output_type": "execute_result"
    }
   ],
   "source": [
    "# Acccessing the dtype\n",
    "# A Series is a ndarray, thus it is homogenous and CANNOT store multiple dtypes\n",
    "x.dtype"
   ]
  },
  {
   "cell_type": "code",
   "execution_count": 10,
   "id": "c9a2ae95-3e6b-4c27-9a37-d9c9711762c8",
   "metadata": {},
   "outputs": [
    {
     "data": {
      "text/plain": [
       "Don      450\n",
       "Mike     650\n",
       "Edwin    870\n",
       "dtype: int64"
      ]
     },
     "execution_count": 10,
     "metadata": {},
     "output_type": "execute_result"
    }
   ],
   "source": [
    "# Creating a Series with an Index\n",
    "data = [450, 650, 870]\n",
    "sales = Series(data, index = [\"Don\", \"Mike\", \"Edwin\"])\n",
    "sales"
   ]
  },
  {
   "cell_type": "code",
   "execution_count": 11,
   "id": "fd1da0d7-43fe-46ed-9c0f-51d39ecf5d74",
   "metadata": {},
   "outputs": [
    {
     "data": {
      "text/plain": [
       "pandas.core.series.Series"
      ]
     },
     "execution_count": 11,
     "metadata": {},
     "output_type": "execute_result"
    }
   ],
   "source": [
    "# Check the type\n",
    "type(sales)"
   ]
  },
  {
   "cell_type": "code",
   "execution_count": 12,
   "id": "98598359-c82f-4297-96bb-134018ec94af",
   "metadata": {},
   "outputs": [
    {
     "data": {
      "text/plain": [
       "Index(['Don', 'Mike', 'Edwin'], dtype='object')"
      ]
     },
     "execution_count": 12,
     "metadata": {},
     "output_type": "execute_result"
    }
   ],
   "source": [
    "# If we check the index of sales, we will get the values, rather than the range\n",
    "sales.index"
   ]
  },
  {
   "cell_type": "code",
   "execution_count": 14,
   "id": "abec7e4e-b9e0-4cca-ba54-c907c2c40772",
   "metadata": {},
   "outputs": [
    {
     "data": {
      "text/plain": [
       "np.int64(450)"
      ]
     },
     "execution_count": 14,
     "metadata": {},
     "output_type": "execute_result"
    }
   ],
   "source": [
    "sales[\"Don\"]"
   ]
  },
  {
   "cell_type": "code",
   "execution_count": 15,
   "id": "312b2b2b-254b-4a3a-8aeb-b1771fa66194",
   "metadata": {},
   "outputs": [
    {
     "name": "stderr",
     "output_type": "stream",
     "text": [
      "C:\\Users\\memer\\AppData\\Local\\Temp\\ipykernel_52660\\1101347017.py:1: FutureWarning: Series.__getitem__ treating keys as positions is deprecated. In a future version, integer keys will always be treated as labels (consistent with DataFrame behavior). To access a value by position, use `ser.iloc[pos]`\n",
      "  sales[0]\n"
     ]
    },
    {
     "data": {
      "text/plain": [
       "np.int64(450)"
      ]
     },
     "execution_count": 15,
     "metadata": {},
     "output_type": "execute_result"
    }
   ],
   "source": [
    "sales[0]"
   ]
  },
  {
   "cell_type": "markdown",
   "id": "a0da0c8d-f7f7-408d-8e57-d7580c79db6b",
   "metadata": {},
   "source": [
    "### Checking for conditions"
   ]
  },
  {
   "cell_type": "code",
   "execution_count": 16,
   "id": "d712d5a8-e312-4919-8b5c-892bfe45a99e",
   "metadata": {},
   "outputs": [
    {
     "data": {
      "text/plain": [
       "Don      False\n",
       "Mike      True\n",
       "Edwin     True\n",
       "dtype: bool"
      ]
     },
     "execution_count": 16,
     "metadata": {},
     "output_type": "execute_result"
    }
   ],
   "source": [
    "# You can filter based on conditions\n",
    "sales>500\n",
    "# This will usually return booleans"
   ]
  },
  {
   "cell_type": "code",
   "execution_count": 17,
   "id": "a5fd0327-fcf5-404b-9fd2-f14bfcda6261",
   "metadata": {},
   "outputs": [
    {
     "data": {
      "text/plain": [
       "Mike     650\n",
       "Edwin    870\n",
       "dtype: int64"
      ]
     },
     "execution_count": 17,
     "metadata": {},
     "output_type": "execute_result"
    }
   ],
   "source": [
    "# We can use these booleans\n",
    "sales[[False, True, True]]"
   ]
  },
  {
   "cell_type": "code",
   "execution_count": 19,
   "id": "39c0e2af-81bd-4cf7-96e1-82ad559e5ae3",
   "metadata": {},
   "outputs": [
    {
     "data": {
      "text/plain": [
       "Mike     650\n",
       "Edwin    870\n",
       "dtype: int64"
      ]
     },
     "execution_count": 19,
     "metadata": {},
     "output_type": "execute_result"
    }
   ],
   "source": [
    "# If we want to see values greater than 500, we can use those booleans\n",
    "sales[sales>500]"
   ]
  },
  {
   "cell_type": "code",
   "execution_count": 20,
   "id": "d4d0b027-dc4e-4fe2-9962-1d9b095a96f5",
   "metadata": {},
   "outputs": [
    {
     "data": {
      "text/plain": [
       "True"
      ]
     },
     "execution_count": 20,
     "metadata": {},
     "output_type": "execute_result"
    }
   ],
   "source": [
    "# Checking the names in the index\n",
    "\"Don\" in sales"
   ]
  },
  {
   "cell_type": "code",
   "execution_count": 21,
   "id": "9f5926d4-74cb-4025-b12e-4297937580dc",
   "metadata": {},
   "outputs": [
    {
     "data": {
      "text/plain": [
       "False"
      ]
     },
     "execution_count": 21,
     "metadata": {},
     "output_type": "execute_result"
    }
   ],
   "source": [
    "# False example\n",
    "\"Sally\" in sales"
   ]
  },
  {
   "cell_type": "code",
   "execution_count": 23,
   "id": "09d6b070-b8c0-45ef-bcef-495ec7981a0c",
   "metadata": {},
   "outputs": [
    {
     "data": {
      "text/plain": [
       "False"
      ]
     },
     "execution_count": 23,
     "metadata": {},
     "output_type": "execute_result"
    }
   ],
   "source": [
    "# What about this\n",
    "450 in sales\n",
    "# 450 is not an index, it is a value"
   ]
  },
  {
   "cell_type": "markdown",
   "id": "c29a2708-191a-40bd-b3cf-b3fc453f2024",
   "metadata": {},
   "source": [
    "## Working with Dictionaries"
   ]
  },
  {
   "cell_type": "code",
   "execution_count": 25,
   "id": "9f866034-23c8-4dec-b28c-a0c964dd8a7c",
   "metadata": {},
   "outputs": [
    {
     "data": {
      "text/plain": [
       "{'Don': 450, 'Mike': 650, 'Edwin': 870}"
      ]
     },
     "execution_count": 25,
     "metadata": {},
     "output_type": "execute_result"
    }
   ],
   "source": [
    "# Converting a Series to a Dictionary\n",
    "sales_dict = sales.to_dict()\n",
    "sales_dict\n",
    "# The indexes become the dictionary keys"
   ]
  },
  {
   "cell_type": "code",
   "execution_count": 26,
   "id": "d6a2d4b2-93c5-4892-b3b6-672d0aaa6bc5",
   "metadata": {},
   "outputs": [
    {
     "data": {
      "text/plain": [
       "Don      450\n",
       "Mike     650\n",
       "Edwin    870\n",
       "dtype: int64"
      ]
     },
     "execution_count": 26,
     "metadata": {},
     "output_type": "execute_result"
    }
   ],
   "source": [
    "# Converting a dictionary to a Series\n",
    "sales_ser = Series(sales_dict)\n",
    "sales_ser"
   ]
  },
  {
   "cell_type": "markdown",
   "id": "91d714a3-0ca6-4f93-ad29-b301f976d413",
   "metadata": {},
   "source": [
    "## Adding entries and working with Nan/null values"
   ]
  },
  {
   "cell_type": "code",
   "execution_count": 28,
   "id": "927b32b2-85f1-4e73-8fc6-b38cc606e728",
   "metadata": {},
   "outputs": [
    {
     "data": {
      "text/plain": [
       "Don      450.0\n",
       "Mike     650.0\n",
       "Sally      NaN\n",
       "Edwin    870.0\n",
       "Lucy       NaN\n",
       "dtype: float64"
      ]
     },
     "execution_count": 28,
     "metadata": {},
     "output_type": "execute_result"
    }
   ],
   "source": [
    "# We can create a new Series from an existing Series\n",
    "# If we specify names in the index that were NOT there already, NaN values will be assigned\n",
    "new_sales = Series(sales, index = [\"Don\", \"Mike\", \"Sally\", \"Edwin\", \"Lucy\"])\n",
    "new_sales"
   ]
  },
  {
   "cell_type": "code",
   "execution_count": 30,
   "id": "6a9a5220-90ad-4153-8bde-281283768e80",
   "metadata": {},
   "outputs": [
    {
     "data": {
      "text/plain": [
       "Don      False\n",
       "Mike     False\n",
       "Sally     True\n",
       "Edwin    False\n",
       "Lucy      True\n",
       "dtype: bool"
      ]
     },
     "execution_count": 30,
     "metadata": {},
     "output_type": "execute_result"
    }
   ],
   "source": [
    "# We can check if there are any NaN values in a Series\n",
    "# For this we can use Numpy\n",
    "np.isnan(new_sales)\n",
    "# Shows True for any NaN values"
   ]
  },
  {
   "cell_type": "code",
   "execution_count": 31,
   "id": "cff4bd47-93f3-438b-b868-020f6f72e93b",
   "metadata": {},
   "outputs": [
    {
     "data": {
      "text/plain": [
       "Don      False\n",
       "Mike     False\n",
       "Sally     True\n",
       "Edwin    False\n",
       "Lucy      True\n",
       "dtype: bool"
      ]
     },
     "execution_count": 31,
     "metadata": {},
     "output_type": "execute_result"
    }
   ],
   "source": [
    "# To check for null values, use Pandas\n",
    "pd.isnull(new_sales)"
   ]
  },
  {
   "cell_type": "markdown",
   "id": "4397595f-a0ba-4a02-a92c-47a4b9fcb3a0",
   "metadata": {},
   "source": [
    "## Naming components in a Series"
   ]
  },
  {
   "cell_type": "code",
   "execution_count": 33,
   "id": "5ed3781b-8894-4323-85fa-5860bdec534d",
   "metadata": {},
   "outputs": [
    {
     "data": {
      "text/plain": [
       "Sales Person\n",
       "Don      450\n",
       "Mike     650\n",
       "Edwin    870\n",
       "dtype: int64"
      ]
     },
     "execution_count": 33,
     "metadata": {},
     "output_type": "execute_result"
    }
   ],
   "source": [
    "# Name an index\n",
    "sales.index.name = \"Sales Person\"\n",
    "sales"
   ]
  },
  {
   "cell_type": "code",
   "execution_count": 34,
   "id": "cd54d82c-e4d9-4b67-842e-5503c100ba23",
   "metadata": {},
   "outputs": [
    {
     "data": {
      "text/plain": [
       "Sales Person\n",
       "Don      450\n",
       "Mike     650\n",
       "Edwin    870\n",
       "Name: Total TV Sales, dtype: int64"
      ]
     },
     "execution_count": 34,
     "metadata": {},
     "output_type": "execute_result"
    }
   ],
   "source": [
    "# Name a Series\n",
    "sales.name = \"Total TV Sales\"\n",
    "sales"
   ]
  },
  {
   "cell_type": "markdown",
   "id": "f948b570-6051-430b-a9f5-633eea207137",
   "metadata": {},
   "source": [
    "# DataFrames\n",
    "\n",
    "DataFrame are two-dimensional, size-mutable, potentially heterogeneous tabular data structures. This data structure contains TWO labelled axes (rows and columns)"
   ]
  },
  {
   "cell_type": "markdown",
   "id": "c7e15487-62b2-4e90-920c-68eb8ba9c169",
   "metadata": {},
   "source": [
    "## Creating a DataFrame"
   ]
  },
  {
   "cell_type": "code",
   "execution_count": 38,
   "id": "9f073f65-8f52-43b8-94b6-3138baaea751",
   "metadata": {},
   "outputs": [
    {
     "data": {
      "text/html": [
       "<div>\n",
       "<style scoped>\n",
       "    .dataframe tbody tr th:only-of-type {\n",
       "        vertical-align: middle;\n",
       "    }\n",
       "\n",
       "    .dataframe tbody tr th {\n",
       "        vertical-align: top;\n",
       "    }\n",
       "\n",
       "    .dataframe thead th {\n",
       "        text-align: right;\n",
       "    }\n",
       "</style>\n",
       "<table border=\"1\" class=\"dataframe\">\n",
       "  <thead>\n",
       "    <tr style=\"text-align: right;\">\n",
       "      <th></th>\n",
       "      <th>Name</th>\n",
       "      <th>Age</th>\n",
       "    </tr>\n",
       "  </thead>\n",
       "  <tbody>\n",
       "    <tr>\n",
       "      <th>0</th>\n",
       "      <td>Adrian</td>\n",
       "      <td>20</td>\n",
       "    </tr>\n",
       "    <tr>\n",
       "      <th>1</th>\n",
       "      <td>Bethany</td>\n",
       "      <td>23</td>\n",
       "    </tr>\n",
       "    <tr>\n",
       "      <th>2</th>\n",
       "      <td>Chloe</td>\n",
       "      <td>41</td>\n",
       "    </tr>\n",
       "  </tbody>\n",
       "</table>\n",
       "</div>"
      ],
      "text/plain": [
       "      Name  Age\n",
       "0   Adrian   20\n",
       "1  Bethany   23\n",
       "2    Chloe   41"
      ]
     },
     "execution_count": 38,
     "metadata": {},
     "output_type": "execute_result"
    }
   ],
   "source": [
    "# Creating a DataFrame from a list\n",
    "data = [[\"Adrian\", 20], [\"Bethany\", 23], [\"Chloe\", 41]]\n",
    "\n",
    "# When we create a DataFrame, we can specify what the column names are and the data type is\n",
    "df = pd.DataFrame(data, columns = [\"Name\", \"Age\"])\n",
    "df"
   ]
  },
  {
   "cell_type": "code",
   "execution_count": null,
   "id": "e0121e1d-ad53-4e53-8dbb-35f070168495",
   "metadata": {},
   "outputs": [],
   "source": []
  }
 ],
 "metadata": {
  "kernelspec": {
   "display_name": "Python 3 (ipykernel)",
   "language": "python",
   "name": "python3"
  },
  "language_info": {
   "codemirror_mode": {
    "name": "ipython",
    "version": 3
   },
   "file_extension": ".py",
   "mimetype": "text/x-python",
   "name": "python",
   "nbconvert_exporter": "python",
   "pygments_lexer": "ipython3",
   "version": "3.12.6"
  }
 },
 "nbformat": 4,
 "nbformat_minor": 5
}
